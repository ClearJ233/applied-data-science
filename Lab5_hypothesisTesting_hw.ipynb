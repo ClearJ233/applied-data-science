{
 "cells": [
  {
   "cell_type": "markdown",
   "metadata": {},
   "source": [
    "# LAB 5. Hypothesis testing. Green taxi case"
   ]
  },
  {
   "cell_type": "markdown",
   "metadata": {},
   "source": [
    "Test varios hypothesis about ridership volume and trip characteristics for green taxi trips in 2018-2020. \n",
    "\n",
    "Does the ridership decline over time? Does it depend on the day of the week and time of the day? Does the distribution of the trip parameters (distance, time, speed) depend on the day of the week and borough?"
   ]
  },
  {
   "cell_type": "code",
   "execution_count": 133,
   "metadata": {},
   "outputs": [],
   "source": [
    "#import the modules\n",
    "import pandas as pd\n",
    "import geopandas as gpd\n",
    "import urllib.request\n",
    "import os\n",
    "import numpy as np\n",
    "from scipy import stats\n",
    "import matplotlib.pyplot as plt\n",
    "import warnings\n",
    "warnings.filterwarnings('ignore')"
   ]
  },
  {
   "cell_type": "code",
   "execution_count": 134,
   "metadata": {},
   "outputs": [],
   "source": [
    "#create the folders\n",
    "if not os.path.exists('Data'):\n",
    "    os.mkdir('Data')\n",
    "if not os.path.exists('Data/TLC'):\n",
    "    os.mkdir('Data/TLC')"
   ]
  },
  {
   "cell_type": "code",
   "execution_count": 135,
   "metadata": {},
   "outputs": [
    {
     "name": "stdout",
     "output_type": "stream",
     "text": [
      "done\n"
     ]
    }
   ],
   "source": [
    "# Download green taxi data if not downloaded yet; might take a couple of minutes\n",
    "for year in [2018, 2019, 2020]:\n",
    "    for month in range(1, 13):\n",
    "        if year == 2020 and month > 6:\n",
    "            pass\n",
    "        else:\n",
    "            parquet_file = f'green_tripdata_{year}-{str(month).zfill(2)}.parquet'\n",
    "            csv_file = f'green_tripdata_{year}-{str(month).zfill(2)}.csv'\n",
    "            if not os.path.exists(f'Data/TLC/{csv_file}'):\n",
    "                url = f'https://d37ci6vzurychx.cloudfront.net/trip-data/{parquet_file}'\n",
    "                parquet_path = f'Data/TLC/{parquet_file}'\n",
    "                csv_path = f'Data/TLC/{csv_file}'\n",
    "                \n",
    "                # Download the parquet file\n",
    "                urllib.request.urlretrieve(url, parquet_path)\n",
    "                \n",
    "                # Convert parquet to csv\n",
    "                df = pd.read_parquet(parquet_path)\n",
    "                df.to_csv(csv_path, index=False)\n",
    "                \n",
    "                # Optionally, remove the parquet file\n",
    "                os.remove(parquet_path)\n",
    "\n",
    "print('done')"
   ]
  },
  {
   "cell_type": "code",
   "execution_count": 136,
   "metadata": {},
   "outputs": [],
   "source": [
    "#concatenate all the files into a single dataframe - takes up to a minute\n",
    "files = os.listdir('./Data/TLC/')\n",
    "dfList = []\n",
    "\n",
    "for index,filename in enumerate(files):\n",
    "    if '.csv' in filename:\n",
    "        if index == 0:\n",
    "            df = pd.read_csv('./Data/TLC/'+filename, index_col=None)\n",
    "        else:\n",
    "            df = pd.read_csv('./Data/TLC/'+filename, index_col=None, header=0)\n",
    "        dfList.append(df)\n",
    "dfTaxi = pd.concat(dfList, axis=0, ignore_index=True)"
   ]
  },
  {
   "cell_type": "code",
   "execution_count": 137,
   "metadata": {},
   "outputs": [
    {
     "data": {
      "text/plain": [
       "Index(['VendorID', 'lpep_pickup_datetime', 'lpep_dropoff_datetime',\n",
       "       'store_and_fwd_flag', 'RatecodeID', 'PULocationID', 'DOLocationID',\n",
       "       'passenger_count', 'trip_distance', 'fare_amount', 'extra', 'mta_tax',\n",
       "       'tip_amount', 'tolls_amount', 'ehail_fee', 'improvement_surcharge',\n",
       "       'total_amount', 'payment_type', 'trip_type', 'congestion_surcharge'],\n",
       "      dtype='object')"
      ]
     },
     "execution_count": 137,
     "metadata": {},
     "output_type": "execute_result"
    }
   ],
   "source": [
    "dfTaxi.columns"
   ]
  },
  {
   "cell_type": "code",
   "execution_count": 138,
   "metadata": {},
   "outputs": [],
   "source": [
    "#take care of the timestamp types\n",
    "dfTaxi['lpep_pickup_datetime'] = pd.to_datetime(dfTaxi['lpep_pickup_datetime'])\n",
    "dfTaxi['lpep_dropoff_datetime'] = pd.to_datetime(dfTaxi['lpep_dropoff_datetime'])"
   ]
  },
  {
   "cell_type": "code",
   "execution_count": 139,
   "metadata": {},
   "outputs": [],
   "source": [
    "#extract date, year, day of the week and hour (takes some time around half a minute)\n",
    "dfTaxi['Date'] = dfTaxi['lpep_pickup_datetime'].dt.date\n",
    "dfTaxi['Month'] = dfTaxi['lpep_pickup_datetime'].dt.month\n",
    "dfTaxi['Year'] = dfTaxi['lpep_pickup_datetime'].dt.year\n",
    "dfTaxi['DOW'] = dfTaxi['lpep_pickup_datetime'].dt.dayofweek\n",
    "dfTaxi['Hour'] = dfTaxi['lpep_pickup_datetime'].dt.hour\n",
    "dfTaxi = dfTaxi.loc[dfTaxi['Year'].isin([2018,2019,2020])]"
   ]
  },
  {
   "cell_type": "code",
   "execution_count": 140,
   "metadata": {},
   "outputs": [],
   "source": [
    "#calculate trip duration in minutes\n",
    "dfTaxi['trip_duration'] = (dfTaxi['lpep_dropoff_datetime'] - dfTaxi['lpep_pickup_datetime'])\n",
    "dfTaxi['trip_duration'] = dfTaxi['trip_duration'].dt.total_seconds() / 60"
   ]
  },
  {
   "cell_type": "code",
   "execution_count": 141,
   "metadata": {},
   "outputs": [],
   "source": [
    "dfTaxi['speed'] = dfTaxi['trip_distance'] / (dfTaxi['trip_duration'] / 60) #avg trip speed in miles per hoiur"
   ]
  },
  {
   "cell_type": "code",
   "execution_count": 142,
   "metadata": {},
   "outputs": [
    {
     "data": {
      "text/plain": [
       "16426014"
      ]
     },
     "execution_count": 142,
     "metadata": {},
     "output_type": "execute_result"
    }
   ],
   "source": [
    "len(dfTaxi) #original number of records"
   ]
  },
  {
   "cell_type": "code",
   "execution_count": 143,
   "metadata": {},
   "outputs": [
    {
     "data": {
      "text/plain": [
       "15881382"
      ]
     },
     "execution_count": 143,
     "metadata": {},
     "output_type": "execute_result"
    }
   ],
   "source": [
    "#sanity filtering\n",
    "dfTaxi = dfTaxi[(dfTaxi['Date']<=pd.to_datetime('6/30/2020')) & (dfTaxi.trip_distance < 100)\n",
    "           & (dfTaxi.speed <= 80) & (dfTaxi.speed >= 1) & (dfTaxi.trip_duration <= 100) & (dfTaxi.trip_duration >= 1)]\n",
    "len(dfTaxi) #remaining records"
   ]
  },
  {
   "cell_type": "code",
   "execution_count": 144,
   "metadata": {},
   "outputs": [],
   "source": [
    "#daily total trip counts and cumulative duration and distance traveled\n",
    "dfTaxiDaily = dfTaxi.groupby(['Year','Month','DOW','Date']).\\\n",
    "            agg({'lpep_pickup_datetime':'count','trip_duration':'sum','trip_distance':'sum'}).\\\n",
    "            rename(columns={'lpep_pickup_datetime':'trip_count'}).reset_index()\n",
    "dfTaxiDaily = dfTaxiDaily.sort_values(by='Date')"
   ]
  },
  {
   "cell_type": "code",
   "execution_count": 145,
   "metadata": {},
   "outputs": [],
   "source": [
    "dfTaxiDaily['speed'] = dfTaxiDaily['trip_distance'] / dfTaxiDaily['trip_duration'] * 60"
   ]
  },
  {
   "cell_type": "code",
   "execution_count": 146,
   "metadata": {},
   "outputs": [
    {
     "data": {
      "text/html": [
       "<div>\n",
       "<style scoped>\n",
       "    .dataframe tbody tr th:only-of-type {\n",
       "        vertical-align: middle;\n",
       "    }\n",
       "\n",
       "    .dataframe tbody tr th {\n",
       "        vertical-align: top;\n",
       "    }\n",
       "\n",
       "    .dataframe thead th {\n",
       "        text-align: right;\n",
       "    }\n",
       "</style>\n",
       "<table border=\"1\" class=\"dataframe\">\n",
       "  <thead>\n",
       "    <tr style=\"text-align: right;\">\n",
       "      <th></th>\n",
       "      <th>Year</th>\n",
       "      <th>Month</th>\n",
       "      <th>DOW</th>\n",
       "      <th>Date</th>\n",
       "      <th>trip_count</th>\n",
       "      <th>trip_duration</th>\n",
       "      <th>trip_distance</th>\n",
       "      <th>speed</th>\n",
       "    </tr>\n",
       "  </thead>\n",
       "  <tbody>\n",
       "    <tr>\n",
       "      <th>0</th>\n",
       "      <td>2018</td>\n",
       "      <td>1</td>\n",
       "      <td>0</td>\n",
       "      <td>2018-01-01</td>\n",
       "      <td>22384</td>\n",
       "      <td>263853.966667</td>\n",
       "      <td>67911.34</td>\n",
       "      <td>15.442938</td>\n",
       "    </tr>\n",
       "    <tr>\n",
       "      <th>5</th>\n",
       "      <td>2018</td>\n",
       "      <td>1</td>\n",
       "      <td>1</td>\n",
       "      <td>2018-01-02</td>\n",
       "      <td>22583</td>\n",
       "      <td>274362.416667</td>\n",
       "      <td>59493.64</td>\n",
       "      <td>13.010595</td>\n",
       "    </tr>\n",
       "    <tr>\n",
       "      <th>10</th>\n",
       "      <td>2018</td>\n",
       "      <td>1</td>\n",
       "      <td>2</td>\n",
       "      <td>2018-01-03</td>\n",
       "      <td>25673</td>\n",
       "      <td>341670.100000</td>\n",
       "      <td>69394.22</td>\n",
       "      <td>12.186180</td>\n",
       "    </tr>\n",
       "    <tr>\n",
       "      <th>15</th>\n",
       "      <td>2018</td>\n",
       "      <td>1</td>\n",
       "      <td>3</td>\n",
       "      <td>2018-01-04</td>\n",
       "      <td>6297</td>\n",
       "      <td>80896.516667</td>\n",
       "      <td>16403.10</td>\n",
       "      <td>12.165987</td>\n",
       "    </tr>\n",
       "    <tr>\n",
       "      <th>19</th>\n",
       "      <td>2018</td>\n",
       "      <td>1</td>\n",
       "      <td>4</td>\n",
       "      <td>2018-01-05</td>\n",
       "      <td>26727</td>\n",
       "      <td>341303.233333</td>\n",
       "      <td>64290.25</td>\n",
       "      <td>11.302017</td>\n",
       "    </tr>\n",
       "  </tbody>\n",
       "</table>\n",
       "</div>"
      ],
      "text/plain": [
       "    Year  Month  DOW        Date  trip_count  trip_duration  trip_distance  \\\n",
       "0   2018      1    0  2018-01-01       22384  263853.966667       67911.34   \n",
       "5   2018      1    1  2018-01-02       22583  274362.416667       59493.64   \n",
       "10  2018      1    2  2018-01-03       25673  341670.100000       69394.22   \n",
       "15  2018      1    3  2018-01-04        6297   80896.516667       16403.10   \n",
       "19  2018      1    4  2018-01-05       26727  341303.233333       64290.25   \n",
       "\n",
       "        speed  \n",
       "0   15.442938  \n",
       "5   13.010595  \n",
       "10  12.186180  \n",
       "15  12.165987  \n",
       "19  11.302017  "
      ]
     },
     "execution_count": 146,
     "metadata": {},
     "output_type": "execute_result"
    }
   ],
   "source": [
    "dfTaxiDaily.head()"
   ]
  },
  {
   "cell_type": "code",
   "execution_count": 147,
   "metadata": {},
   "outputs": [
    {
     "data": {
      "image/png": "[encoded data removed]",
      "text/plain": [
       "<Figure size 432x288 with 1 Axes>"
      ]
     },
     "metadata": {
      "needs_background": "light"
     },
     "output_type": "display_data"
    }
   ],
   "source": [
    "#ridership timeline - daily trip counts; seem to decline and particularly during the pandemics lockdown\n",
    "plt.plot(dfTaxiDaily['Date'], dfTaxiDaily['trip_count'])\n",
    "plt.xticks(rotation=70);\n",
    "plt.show()"
   ]
  },
  {
   "cell_type": "code",
   "execution_count": 148,
   "metadata": {},
   "outputs": [
    {
     "data": {
      "text/plain": [
       "<matplotlib.legend.Legend at 0x29155132ee0>"
      ]
     },
     "execution_count": 148,
     "metadata": {},
     "output_type": "execute_result"
    },
    {
     "data": {
      "image/png": "[encoded data removed]",
      "text/plain": [
       "<Figure size 432x288 with 1 Axes>"
      ]
     },
     "metadata": {
      "needs_background": "light"
     },
     "output_type": "display_data"
    }
   ],
   "source": [
    "#histograms of daily counts in 2019 and 2018 - distributions look different\n",
    "plt.hist(dfTaxiDaily.loc[dfTaxiDaily['Year']==2018]['trip_count'].values,bins=30,label='2018')\n",
    "plt.hist(dfTaxiDaily.loc[dfTaxiDaily['Year']==2019]['trip_count'].values,bins=30,alpha=0.9,label='2019')\n",
    "#plt.hist(dfTaxiDaily.loc[dfTaxiDaily['Year']==2020]['trip_count'].values,bins=30,alpha=0.5,label='2020')\n",
    "plt.legend()"
   ]
  },
  {
   "cell_type": "code",
   "execution_count": 149,
   "metadata": {},
   "outputs": [
    {
     "data": {
      "text/plain": [
       "Ttest_indResult(statistic=28.657087941915258, pvalue=1.666456504219968e-121)"
      ]
     },
     "execution_count": 149,
     "metadata": {},
     "output_type": "execute_result"
    }
   ],
   "source": [
    "## t-test between the 2019 and 2018 distributions\n",
    "stats.ttest_ind(dfTaxiDaily.loc[dfTaxiDaily['Year']==2018]['trip_count'],dfTaxiDaily.loc[dfTaxiDaily['Year']==2019]['trip_count'])"
   ]
  },
  {
   "cell_type": "code",
   "execution_count": 150,
   "metadata": {},
   "outputs": [
    {
     "data": {
      "text/plain": [
       "KstestResult(statistic=0.7287671232876712, pvalue=3.569826213988359e-94)"
      ]
     },
     "execution_count": 150,
     "metadata": {},
     "output_type": "execute_result"
    }
   ],
   "source": [
    "## K-S test\n",
    "stats.ks_2samp(dfTaxiDaily.loc[dfTaxiDaily['Year']==2018]['trip_count'],dfTaxiDaily.loc[dfTaxiDaily['Year']==2019]['trip_count'])"
   ]
  },
  {
   "cell_type": "markdown",
   "metadata": {},
   "source": [
    "So the hypothesis that 2018 and 2019 daily trip counts follow the same distributions can be rejected beyond any reasonable doubt"
   ]
  },
  {
   "cell_type": "code",
   "execution_count": 151,
   "metadata": {},
   "outputs": [
    {
     "data": {
      "text/plain": [
       "(6050642, 6050642)"
      ]
     },
     "execution_count": 151,
     "metadata": {},
     "output_type": "execute_result"
    }
   ],
   "source": [
    "#For further analysis select the year 2019\n",
    "dfTaxiDaily2019 = dfTaxiDaily.loc[dfTaxiDaily['Year']==2019] #daily aggregates\n",
    "dfTaxi2019 = dfTaxi.loc[dfTaxi['Year']==2019] #individual trips\n",
    "(dfTaxiDaily2019['trip_count'].sum(),len(dfTaxi2019)) #total trip counts in either dataset"
   ]
  },
  {
   "cell_type": "markdown",
   "metadata": {},
   "source": [
    "## Example 1. Test if weekend ridership is different from weekday"
   ]
  },
  {
   "cell_type": "code",
   "execution_count": 152,
   "metadata": {},
   "outputs": [
    {
     "data": {
      "text/plain": [
       "Ttest_indResult(statistic=-2.451880479058623, pvalue=0.014760749788942986)"
      ]
     },
     "execution_count": 152,
     "metadata": {},
     "output_type": "execute_result"
    }
   ],
   "source": [
    "# Monday is 0, Sunday is 6; weekends: DOW>4, weekdays: DOW<4\n",
    "# t-test\n",
    "stats.ttest_ind(dfTaxiDaily2019.loc[dfTaxiDaily2019['DOW']>4]['trip_count'],\n",
    "                dfTaxiDaily2019.loc[dfTaxiDaily2019['DOW']<4]['trip_count'])"
   ]
  },
  {
   "cell_type": "code",
   "execution_count": 153,
   "metadata": {},
   "outputs": [
    {
     "data": {
      "text/plain": [
       "KstestResult(statistic=0.19773647405226352, pvalue=0.007623489458232213)"
      ]
     },
     "execution_count": 153,
     "metadata": {},
     "output_type": "execute_result"
    }
   ],
   "source": [
    "# Monday is 0, Sunday is 6; weekends: DOW>4, weekdays: DOW<4\n",
    "# KS-test\n",
    "stats.ks_2samp(dfTaxiDaily2019.loc[dfTaxiDaily2019['DOW']>4]['trip_count'],\n",
    "                dfTaxiDaily2019.loc[dfTaxiDaily2019['DOW']<4]['trip_count'])"
   ]
  },
  {
   "cell_type": "markdown",
   "metadata": {},
   "source": [
    "Reject the hypothesis that weekends and weekdays follow the same ridership distribution at 95\\% significance level"
   ]
  },
  {
   "cell_type": "markdown",
   "metadata": {},
   "source": [
    "## Example 2. Test if trip speed, duration or distance follow log-normal distributions"
   ]
  },
  {
   "cell_type": "code",
   "execution_count": 154,
   "metadata": {},
   "outputs": [
    {
     "data": {
      "text/plain": [
       "<AxesSubplot:>"
      ]
     },
     "execution_count": 154,
     "metadata": {},
     "output_type": "execute_result"
    },
    {
     "data": {
      "image/png": "[encoded data removed]",
      "text/plain": [
       "<Figure size 432x288 with 1 Axes>"
      ]
     },
     "metadata": {
      "needs_background": "light"
     },
     "output_type": "display_data"
    }
   ],
   "source": [
    "#analyze the overall speed distribution (plot on log-scale)\n",
    "np.log(dfTaxi2019['speed']).hist(bins=100)"
   ]
  },
  {
   "cell_type": "code",
   "execution_count": 155,
   "metadata": {},
   "outputs": [
    {
     "data": {
      "text/plain": [
       "<AxesSubplot:>"
      ]
     },
     "execution_count": 155,
     "metadata": {},
     "output_type": "execute_result"
    },
    {
     "data": {
      "image/png": "[encoded data removed]",
      "text/plain": [
       "<Figure size 432x288 with 1 Axes>"
      ]
     },
     "metadata": {
      "needs_background": "light"
     },
     "output_type": "display_data"
    }
   ],
   "source": [
    "#analyze the overall duration distribution (plot on log-scale)\n",
    "np.log(dfTaxi2019['trip_duration']).hist(bins=100)"
   ]
  },
  {
   "cell_type": "code",
   "execution_count": 156,
   "metadata": {},
   "outputs": [
    {
     "data": {
      "text/plain": [
       "<AxesSubplot:>"
      ]
     },
     "execution_count": 156,
     "metadata": {},
     "output_type": "execute_result"
    },
    {
     "data": {
      "image/png": "[encoded data removed]",
      "text/plain": [
       "<Figure size 432x288 with 1 Axes>"
      ]
     },
     "metadata": {
      "needs_background": "light"
     },
     "output_type": "display_data"
    }
   ],
   "source": [
    "#analyze the overall duration distribution (plot on log-scale)\n",
    "np.log(dfTaxi2019['trip_distance']).hist(bins=100)"
   ]
  },
  {
   "cell_type": "code",
   "execution_count": 157,
   "metadata": {},
   "outputs": [],
   "source": [
    "def is_normal(x): #check is the distribution is normal using one-sample KS test and sample mean-std\n",
    "    return stats.kstest(x,'norm',args=(x.mean(),x.std()))"
   ]
  },
  {
   "cell_type": "code",
   "execution_count": 158,
   "metadata": {},
   "outputs": [
    {
     "data": {
      "text/plain": [
       "KstestResult(statistic=0.041124214393331915, pvalue=0.0)"
      ]
     },
     "execution_count": 158,
     "metadata": {},
     "output_type": "execute_result"
    }
   ],
   "source": [
    "# is log-speed normally distributed?\n",
    "is_normal(np.log(dfTaxi2019['speed']))"
   ]
  },
  {
   "cell_type": "code",
   "execution_count": 159,
   "metadata": {},
   "outputs": [
    {
     "data": {
      "text/plain": [
       "KstestResult(statistic=0.009910381707666005, pvalue=0.0)"
      ]
     },
     "execution_count": 159,
     "metadata": {},
     "output_type": "execute_result"
    }
   ],
   "source": [
    "# is log-duration normally distributed?\n",
    "is_normal(np.log(dfTaxi2019['trip_duration']))"
   ]
  },
  {
   "cell_type": "code",
   "execution_count": 160,
   "metadata": {},
   "outputs": [
    {
     "data": {
      "text/plain": [
       "KstestResult(statistic=0.03805199190988168, pvalue=0.0)"
      ]
     },
     "execution_count": 160,
     "metadata": {},
     "output_type": "execute_result"
    }
   ],
   "source": [
    "# is log-distance normally distributed?\n",
    "is_normal(np.log(dfTaxi2019['trip_distance']))"
   ]
  },
  {
   "cell_type": "code",
   "execution_count": 161,
   "metadata": {},
   "outputs": [],
   "source": [
    "#so none of those quantities have log-normal distribution (rejecting with 99.9999...% confidence)"
   ]
  },
  {
   "cell_type": "code",
   "execution_count": 162,
   "metadata": {},
   "outputs": [],
   "source": [
    "#what about daily average trip_count, duration, distance, speed?"
   ]
  },
  {
   "cell_type": "code",
   "execution_count": 163,
   "metadata": {},
   "outputs": [
    {
     "data": {
      "text/plain": [
       "KstestResult(statistic=0.08978473661157738, pvalue=0.0052026892522868615)"
      ]
     },
     "execution_count": 163,
     "metadata": {},
     "output_type": "execute_result"
    }
   ],
   "source": [
    "is_normal(dfTaxiDaily2019['trip_count']) #does not look normal"
   ]
  },
  {
   "cell_type": "code",
   "execution_count": 164,
   "metadata": {},
   "outputs": [
    {
     "data": {
      "text/plain": [
       "<matplotlib.legend.Legend at 0x29173f5d1c0>"
      ]
     },
     "execution_count": 164,
     "metadata": {},
     "output_type": "execute_result"
    },
    {
     "data": {
      "image/png": "[encoded data removed]",
      "text/plain": [
       "<Figure size 432x288 with 1 Axes>"
      ]
     },
     "metadata": {
      "needs_background": "light"
     },
     "output_type": "display_data"
    }
   ],
   "source": [
    "#visualize empiric CDF's for trip-counts\n",
    "plt.hist(dfTaxiDaily2019['trip_count'].values, 50, density=True, \n",
    "         histtype='step',cumulative=True,label='trip count')\n",
    "plt.hist(np.random.normal(dfTaxiDaily2019['trip_count'].mean(), dfTaxiDaily2019['trip_count'].std(),\n",
    "                          len(dfTaxiDaily2019)), 50, density=True, \n",
    "         histtype='step',cumulative=True,label='same mean and std in gaussian distribution')\n",
    "plt.legend(loc='upper left')"
   ]
  },
  {
   "cell_type": "code",
   "execution_count": 165,
   "metadata": {},
   "outputs": [
    {
     "data": {
      "text/plain": [
       "KstestResult(statistic=0.05176889942437657, pvalue=0.27245276442567923)"
      ]
     },
     "execution_count": 165,
     "metadata": {},
     "output_type": "execute_result"
    }
   ],
   "source": [
    "is_normal(np.log(dfTaxiDaily2019['trip_count'])) #but might be log-normal"
   ]
  },
  {
   "cell_type": "code",
   "execution_count": 166,
   "metadata": {},
   "outputs": [
    {
     "data": {
      "text/plain": [
       "<matplotlib.legend.Legend at 0x2916ab47d90>"
      ]
     },
     "execution_count": 166,
     "metadata": {},
     "output_type": "execute_result"
    },
    {
     "data": {
      "image/png": "[encoded data removed]",
      "text/plain": [
       "<Figure size 432x288 with 1 Axes>"
      ]
     },
     "metadata": {
      "needs_background": "light"
     },
     "output_type": "display_data"
    }
   ],
   "source": [
    "#visualize empiric CDF's for log trip-counts\n",
    "plt.hist(np.log(dfTaxiDaily2019['trip_count'].values), 50, density=True, \n",
    "         histtype='step',cumulative=True,label='log trip count')\n",
    "plt.hist(np.random.normal(np.log(dfTaxiDaily2019['trip_count']).mean(), np.log(dfTaxiDaily2019['trip_count']).std(),\n",
    "                          len(dfTaxiDaily2019)), 50, density=True, \n",
    "         histtype='step',cumulative=True,label='same mean and std in gaussian distribution')\n",
    "plt.legend(loc='upper left')"
   ]
  },
  {
   "cell_type": "code",
   "execution_count": 167,
   "metadata": {},
   "outputs": [
    {
     "data": {
      "text/plain": [
       "KstestResult(statistic=0.08629102051381854, pvalue=0.008181442632357832)"
      ]
     },
     "execution_count": 167,
     "metadata": {},
     "output_type": "execute_result"
    }
   ],
   "source": [
    "is_normal(dfTaxiDaily2019['trip_duration']) #could be normal"
   ]
  },
  {
   "cell_type": "code",
   "execution_count": 168,
   "metadata": {},
   "outputs": [
    {
     "data": {
      "text/plain": [
       "<AxesSubplot:>"
      ]
     },
     "execution_count": 168,
     "metadata": {},
     "output_type": "execute_result"
    },
    {
     "data": {
      "image/png": "[encoded data removed]",
      "text/plain": [
       "<Figure size 432x288 with 1 Axes>"
      ]
     },
     "metadata": {
      "needs_background": "light"
     },
     "output_type": "display_data"
    }
   ],
   "source": [
    "dfTaxiDaily2019['trip_duration'].hist(bins=8)"
   ]
  },
  {
   "cell_type": "code",
   "execution_count": 169,
   "metadata": {},
   "outputs": [
    {
     "data": {
      "text/plain": [
       "<matplotlib.legend.Legend at 0x2916a4afa30>"
      ]
     },
     "execution_count": 169,
     "metadata": {},
     "output_type": "execute_result"
    },
    {
     "data": {
      "image/png": "[encoded data removed]",
      "text/plain": [
       "<Figure size 432x288 with 1 Axes>"
      ]
     },
     "metadata": {
      "needs_background": "light"
     },
     "output_type": "display_data"
    }
   ],
   "source": [
    "_ = plt.hist(dfTaxiDaily2019['trip_duration'].values, 50, density=True, \n",
    "         histtype='step',cumulative=True,label='trip duration')\n",
    "_ = plt.hist(np.random.normal(dfTaxiDaily2019['trip_duration'].mean(), \n",
    "                              dfTaxiDaily2019['trip_duration'].std(),\n",
    "                          len(dfTaxiDaily2019)), 50, density=True, \n",
    "         histtype='step',cumulative=True,label='same mean and std \\nin gaussian distribution')\n",
    "plt.legend(loc='upper left')"
   ]
  },
  {
   "cell_type": "code",
   "execution_count": 170,
   "metadata": {},
   "outputs": [
    {
     "data": {
      "text/plain": [
       "KstestResult(statistic=0.17163545001482727, pvalue=7.163182264727073e-10)"
      ]
     },
     "execution_count": 170,
     "metadata": {},
     "output_type": "execute_result"
    }
   ],
   "source": [
    "is_normal(dfTaxiDaily2019['trip_distance']) #does not look normal"
   ]
  },
  {
   "cell_type": "code",
   "execution_count": 171,
   "metadata": {},
   "outputs": [
    {
     "data": {
      "text/plain": [
       "KstestResult(statistic=0.12271548280910827, pvalue=3.0054477785862917e-05)"
      ]
     },
     "execution_count": 171,
     "metadata": {},
     "output_type": "execute_result"
    }
   ],
   "source": [
    "is_normal(np.log(dfTaxiDaily2019['trip_distance'])) #but might be log-normal"
   ]
  },
  {
   "cell_type": "code",
   "execution_count": 172,
   "metadata": {},
   "outputs": [
    {
     "data": {
      "text/plain": [
       "KstestResult(statistic=0.07628804961462687, pvalue=0.02707330147991338)"
      ]
     },
     "execution_count": 172,
     "metadata": {},
     "output_type": "execute_result"
    }
   ],
   "source": [
    "is_normal(dfTaxiDaily2019['speed']) #might be normal"
   ]
  },
  {
   "cell_type": "code",
   "execution_count": 173,
   "metadata": {},
   "outputs": [
    {
     "data": {
      "text/plain": [
       "KstestResult(statistic=0.06791252706897999, pvalue=0.06584459147143584)"
      ]
     },
     "execution_count": 173,
     "metadata": {},
     "output_type": "execute_result"
    }
   ],
   "source": [
    "is_normal(np.log(dfTaxiDaily2019['speed'])) #log-normal even more likely"
   ]
  },
  {
   "cell_type": "markdown",
   "metadata": {},
   "source": [
    "## Homework assignment"
   ]
  },
  {
   "cell_type": "markdown",
   "metadata": {},
   "source": [
    "## Task 1. Travel speed - hours of the day\n",
    "Traffic and travel speed might vary throughout the day. Select the trips happening on Oct, 1, 2019. a) Compute average travel speed per each hour of the day and visuale as a bar plot. Compare the speed distributions for: b) trip samples within an hour of 9am (Hour=9) and an hour of 10am, c) morning rush hour (two hours of 8 and 9am) and evening rush hour (two hours of 5pm(17) and 6pm(18)). Can you reject the hypothesis that the compared speed samples have the same mean(use t-test) and distribution (use ks-test) at a 95\\% significance level?"
   ]
  },
  {
   "cell_type": "code",
   "execution_count": 174,
   "metadata": {},
   "outputs": [
    {
     "data": {
      "text/html": [
       "<div>\n",
       "<style scoped>\n",
       "    .dataframe tbody tr th:only-of-type {\n",
       "        vertical-align: middle;\n",
       "    }\n",
       "\n",
       "    .dataframe tbody tr th {\n",
       "        vertical-align: top;\n",
       "    }\n",
       "\n",
       "    .dataframe thead th {\n",
       "        text-align: right;\n",
       "    }\n",
       "</style>\n",
       "<table border=\"1\" class=\"dataframe\">\n",
       "  <thead>\n",
       "    <tr style=\"text-align: right;\">\n",
       "      <th></th>\n",
       "      <th>VendorID</th>\n",
       "      <th>lpep_pickup_datetime</th>\n",
       "      <th>lpep_dropoff_datetime</th>\n",
       "      <th>store_and_fwd_flag</th>\n",
       "      <th>RatecodeID</th>\n",
       "      <th>PULocationID</th>\n",
       "      <th>DOLocationID</th>\n",
       "      <th>passenger_count</th>\n",
       "      <th>trip_distance</th>\n",
       "      <th>fare_amount</th>\n",
       "      <th>...</th>\n",
       "      <th>payment_type</th>\n",
       "      <th>trip_type</th>\n",
       "      <th>congestion_surcharge</th>\n",
       "      <th>Date</th>\n",
       "      <th>Month</th>\n",
       "      <th>Year</th>\n",
       "      <th>DOW</th>\n",
       "      <th>Hour</th>\n",
       "      <th>trip_duration</th>\n",
       "      <th>speed</th>\n",
       "    </tr>\n",
       "  </thead>\n",
       "  <tbody>\n",
       "    <tr>\n",
       "      <th>13760139</th>\n",
       "      <td>2</td>\n",
       "      <td>2019-10-01 00:02:03</td>\n",
       "      <td>2019-10-01 00:03:34</td>\n",
       "      <td>N</td>\n",
       "      <td>1.0</td>\n",
       "      <td>166</td>\n",
       "      <td>166</td>\n",
       "      <td>1.0</td>\n",
       "      <td>0.36</td>\n",
       "      <td>3.5</td>\n",
       "      <td>...</td>\n",
       "      <td>2.0</td>\n",
       "      <td>1.0</td>\n",
       "      <td>0.0</td>\n",
       "      <td>2019-10-01</td>\n",
       "      <td>10</td>\n",
       "      <td>2019</td>\n",
       "      <td>1</td>\n",
       "      <td>0</td>\n",
       "      <td>1.516667</td>\n",
       "      <td>14.241758</td>\n",
       "    </tr>\n",
       "    <tr>\n",
       "      <th>13760341</th>\n",
       "      <td>2</td>\n",
       "      <td>2019-10-01 00:02:07</td>\n",
       "      <td>2019-10-01 00:12:34</td>\n",
       "      <td>N</td>\n",
       "      <td>1.0</td>\n",
       "      <td>130</td>\n",
       "      <td>205</td>\n",
       "      <td>1.0</td>\n",
       "      <td>2.85</td>\n",
       "      <td>11.0</td>\n",
       "      <td>...</td>\n",
       "      <td>1.0</td>\n",
       "      <td>1.0</td>\n",
       "      <td>0.0</td>\n",
       "      <td>2019-10-01</td>\n",
       "      <td>10</td>\n",
       "      <td>2019</td>\n",
       "      <td>1</td>\n",
       "      <td>0</td>\n",
       "      <td>10.450000</td>\n",
       "      <td>16.363636</td>\n",
       "    </tr>\n",
       "    <tr>\n",
       "      <th>13760379</th>\n",
       "      <td>2</td>\n",
       "      <td>2019-10-01 00:00:05</td>\n",
       "      <td>2019-10-01 00:05:50</td>\n",
       "      <td>N</td>\n",
       "      <td>1.0</td>\n",
       "      <td>256</td>\n",
       "      <td>37</td>\n",
       "      <td>1.0</td>\n",
       "      <td>1.21</td>\n",
       "      <td>6.5</td>\n",
       "      <td>...</td>\n",
       "      <td>1.0</td>\n",
       "      <td>1.0</td>\n",
       "      <td>0.0</td>\n",
       "      <td>2019-10-01</td>\n",
       "      <td>10</td>\n",
       "      <td>2019</td>\n",
       "      <td>1</td>\n",
       "      <td>0</td>\n",
       "      <td>5.750000</td>\n",
       "      <td>12.626087</td>\n",
       "    </tr>\n",
       "    <tr>\n",
       "      <th>13819523</th>\n",
       "      <td>2</td>\n",
       "      <td>2019-10-01 00:26:02</td>\n",
       "      <td>2019-10-01 00:39:58</td>\n",
       "      <td>N</td>\n",
       "      <td>1.0</td>\n",
       "      <td>112</td>\n",
       "      <td>196</td>\n",
       "      <td>1.0</td>\n",
       "      <td>5.88</td>\n",
       "      <td>18.0</td>\n",
       "      <td>...</td>\n",
       "      <td>2.0</td>\n",
       "      <td>1.0</td>\n",
       "      <td>0.0</td>\n",
       "      <td>2019-10-01</td>\n",
       "      <td>10</td>\n",
       "      <td>2019</td>\n",
       "      <td>1</td>\n",
       "      <td>0</td>\n",
       "      <td>13.933333</td>\n",
       "      <td>25.320574</td>\n",
       "    </tr>\n",
       "    <tr>\n",
       "      <th>13819524</th>\n",
       "      <td>1</td>\n",
       "      <td>2019-10-01 00:18:11</td>\n",
       "      <td>2019-10-01 00:22:38</td>\n",
       "      <td>N</td>\n",
       "      <td>1.0</td>\n",
       "      <td>43</td>\n",
       "      <td>263</td>\n",
       "      <td>1.0</td>\n",
       "      <td>0.80</td>\n",
       "      <td>5.0</td>\n",
       "      <td>...</td>\n",
       "      <td>2.0</td>\n",
       "      <td>1.0</td>\n",
       "      <td>0.0</td>\n",
       "      <td>2019-10-01</td>\n",
       "      <td>10</td>\n",
       "      <td>2019</td>\n",
       "      <td>1</td>\n",
       "      <td>0</td>\n",
       "      <td>4.450000</td>\n",
       "      <td>10.786517</td>\n",
       "    </tr>\n",
       "  </tbody>\n",
       "</table>\n",
       "<p>5 rows × 27 columns</p>\n",
       "</div>"
      ],
      "text/plain": [
       "          VendorID lpep_pickup_datetime lpep_dropoff_datetime  \\\n",
       "13760139         2  2019-10-01 00:02:03   2019-10-01 00:03:34   \n",
       "13760341         2  2019-10-01 00:02:07   2019-10-01 00:12:34   \n",
       "13760379         2  2019-10-01 00:00:05   2019-10-01 00:05:50   \n",
       "13819523         2  2019-10-01 00:26:02   2019-10-01 00:39:58   \n",
       "13819524         1  2019-10-01 00:18:11   2019-10-01 00:22:38   \n",
       "\n",
       "         store_and_fwd_flag  RatecodeID  PULocationID  DOLocationID  \\\n",
       "13760139                  N         1.0           166           166   \n",
       "13760341                  N         1.0           130           205   \n",
       "13760379                  N         1.0           256            37   \n",
       "13819523                  N         1.0           112           196   \n",
       "13819524                  N         1.0            43           263   \n",
       "\n",
       "          passenger_count  trip_distance  fare_amount  ...  payment_type  \\\n",
       "13760139              1.0           0.36          3.5  ...           2.0   \n",
       "13760341              1.0           2.85         11.0  ...           1.0   \n",
       "13760379              1.0           1.21          6.5  ...           1.0   \n",
       "13819523              1.0           5.88         18.0  ...           2.0   \n",
       "13819524              1.0           0.80          5.0  ...           2.0   \n",
       "\n",
       "          trip_type  congestion_surcharge        Date  Month  Year  DOW  Hour  \\\n",
       "13760139        1.0                   0.0  2019-10-01     10  2019    1     0   \n",
       "13760341        1.0                   0.0  2019-10-01     10  2019    1     0   \n",
       "13760379        1.0                   0.0  2019-10-01     10  2019    1     0   \n",
       "13819523        1.0                   0.0  2019-10-01     10  2019    1     0   \n",
       "13819524        1.0                   0.0  2019-10-01     10  2019    1     0   \n",
       "\n",
       "          trip_duration      speed  \n",
       "13760139       1.516667  14.241758  \n",
       "13760341      10.450000  16.363636  \n",
       "13760379       5.750000  12.626087  \n",
       "13819523      13.933333  25.320574  \n",
       "13819524       4.450000  10.786517  \n",
       "\n",
       "[5 rows x 27 columns]"
      ]
     },
     "execution_count": 174,
     "metadata": {},
     "output_type": "execute_result"
    }
   ],
   "source": [
    "#a)\n",
    "dfTaxia = dfTaxi[dfTaxi['Date']==pd.to_datetime('10/1/2019')]\n",
    "dfTaxia.head()"
   ]
  },
  {
   "cell_type": "code",
   "execution_count": null,
   "metadata": {},
   "outputs": [],
   "source": []
  },
  {
   "cell_type": "code",
   "execution_count": 175,
   "metadata": {},
   "outputs": [],
   "source": [
    "dfTaxiabh = dfTaxia.groupby(['Hour']).agg({'trip_duration':'sum','trip_distance':'sum'}).reset_index()\n",
    "dfTaxiabh['avg speed by hours']=dfTaxiabh['trip_distance']/(dfTaxiabh['trip_duration']/60)"
   ]
  },
  {
   "cell_type": "code",
   "execution_count": 176,
   "metadata": {},
   "outputs": [
    {
     "data": {
      "text/plain": [
       "<AxesSubplot:>"
      ]
     },
     "execution_count": 176,
     "metadata": {},
     "output_type": "execute_result"
    },
    {
     "data": {
      "image/png": "[encoded data removed]",
      "text/plain": [
       "<Figure size 432x288 with 1 Axes>"
      ]
     },
     "metadata": {
      "needs_background": "light"
     },
     "output_type": "display_data"
    }
   ],
   "source": [
    "dfTaxiabh['avg speed by hours'].plot.bar()"
   ]
  },
  {
   "cell_type": "code",
   "execution_count": 177,
   "metadata": {},
   "outputs": [],
   "source": [
    "#b)"
   ]
  },
  {
   "cell_type": "code",
   "execution_count": 178,
   "metadata": {},
   "outputs": [],
   "source": [
    "dfTaxia9=dfTaxia[dfTaxia['Hour']==9]\n",
    "dfTaxia10=dfTaxia[dfTaxia['Hour']==10]\n",
    "dfTaxia9['speed'] = dfTaxia9['trip_distance'] / dfTaxia9['trip_duration'] * 60\n",
    "dfTaxia10['speed'] = dfTaxia10['trip_distance'] / dfTaxia10['trip_duration'] * 60"
   ]
  },
  {
   "cell_type": "code",
   "execution_count": 179,
   "metadata": {},
   "outputs": [
    {
     "data": {
      "text/plain": [
       "<AxesSubplot:>"
      ]
     },
     "execution_count": 179,
     "metadata": {},
     "output_type": "execute_result"
    },
    {
     "data": {
      "image/png": "[encoded data removed]",
      "text/plain": [
       "<Figure size 432x288 with 1 Axes>"
      ]
     },
     "metadata": {
      "needs_background": "light"
     },
     "output_type": "display_data"
    }
   ],
   "source": [
    "np.log(dfTaxia9['speed']).hist(bins=100)"
   ]
  },
  {
   "cell_type": "code",
   "execution_count": 180,
   "metadata": {},
   "outputs": [
    {
     "data": {
      "text/plain": [
       "KstestResult(statistic=0.16711176232448666, pvalue=5.673693234692725e-21)"
      ]
     },
     "execution_count": 180,
     "metadata": {},
     "output_type": "execute_result"
    }
   ],
   "source": [
    "is_normal(dfTaxia9['speed'])"
   ]
  },
  {
   "cell_type": "code",
   "execution_count": 181,
   "metadata": {},
   "outputs": [
    {
     "data": {
      "text/plain": [
       "<AxesSubplot:>"
      ]
     },
     "execution_count": 181,
     "metadata": {},
     "output_type": "execute_result"
    },
    {
     "data": {
      "image/png": "[encoded data removed]",
      "text/plain": [
       "<Figure size 432x288 with 1 Axes>"
      ]
     },
     "metadata": {
      "needs_background": "light"
     },
     "output_type": "display_data"
    }
   ],
   "source": [
    "np.log(dfTaxia10['speed']).hist(bins=100)"
   ]
  },
  {
   "cell_type": "code",
   "execution_count": 182,
   "metadata": {},
   "outputs": [
    {
     "data": {
      "text/plain": [
       "KstestResult(statistic=0.15864276063837845, pvalue=1.004844248436056e-17)"
      ]
     },
     "execution_count": 182,
     "metadata": {},
     "output_type": "execute_result"
    }
   ],
   "source": [
    "is_normal(dfTaxia10['speed'])"
   ]
  },
  {
   "cell_type": "code",
   "execution_count": 183,
   "metadata": {},
   "outputs": [],
   "source": [
    "#c)"
   ]
  },
  {
   "cell_type": "code",
   "execution_count": 184,
   "metadata": {},
   "outputs": [],
   "source": [
    "dfTaxiaMRH=dfTaxia.loc[dfTaxia['Hour'].isin([8,9])]\n",
    "dfTaxiaERH=dfTaxia.loc[dfTaxia['Hour'].isin([17,18])]"
   ]
  },
  {
   "cell_type": "code",
   "execution_count": 185,
   "metadata": {},
   "outputs": [],
   "source": [
    "dfTaxiaMRH['speed']=dfTaxiaMRH['trip_distance'] / dfTaxiaMRH['trip_duration'] * 60\n",
    "dfTaxiaERH['speed']=dfTaxiaERH['trip_distance'] / dfTaxiaERH['trip_duration'] * 60"
   ]
  },
  {
   "cell_type": "code",
   "execution_count": 186,
   "metadata": {},
   "outputs": [
    {
     "data": {
      "text/html": [
       "<div>\n",
       "<style scoped>\n",
       "    .dataframe tbody tr th:only-of-type {\n",
       "        vertical-align: middle;\n",
       "    }\n",
       "\n",
       "    .dataframe tbody tr th {\n",
       "        vertical-align: top;\n",
       "    }\n",
       "\n",
       "    .dataframe thead th {\n",
       "        text-align: right;\n",
       "    }\n",
       "</style>\n",
       "<table border=\"1\" class=\"dataframe\">\n",
       "  <thead>\n",
       "    <tr style=\"text-align: right;\">\n",
       "      <th></th>\n",
       "      <th>VendorID</th>\n",
       "      <th>lpep_pickup_datetime</th>\n",
       "      <th>lpep_dropoff_datetime</th>\n",
       "      <th>store_and_fwd_flag</th>\n",
       "      <th>RatecodeID</th>\n",
       "      <th>PULocationID</th>\n",
       "      <th>DOLocationID</th>\n",
       "      <th>passenger_count</th>\n",
       "      <th>trip_distance</th>\n",
       "      <th>fare_amount</th>\n",
       "      <th>...</th>\n",
       "      <th>payment_type</th>\n",
       "      <th>trip_type</th>\n",
       "      <th>congestion_surcharge</th>\n",
       "      <th>Date</th>\n",
       "      <th>Month</th>\n",
       "      <th>Year</th>\n",
       "      <th>DOW</th>\n",
       "      <th>Hour</th>\n",
       "      <th>trip_duration</th>\n",
       "      <th>speed</th>\n",
       "    </tr>\n",
       "  </thead>\n",
       "  <tbody>\n",
       "    <tr>\n",
       "      <th>13820007</th>\n",
       "      <td>2</td>\n",
       "      <td>2019-10-01 08:37:38</td>\n",
       "      <td>2019-10-01 08:38:38</td>\n",
       "      <td>N</td>\n",
       "      <td>1.0</td>\n",
       "      <td>42</td>\n",
       "      <td>42</td>\n",
       "      <td>1.0</td>\n",
       "      <td>0.26</td>\n",
       "      <td>3.00</td>\n",
       "      <td>...</td>\n",
       "      <td>2.0</td>\n",
       "      <td>1.0</td>\n",
       "      <td>0.00</td>\n",
       "      <td>2019-10-01</td>\n",
       "      <td>10</td>\n",
       "      <td>2019</td>\n",
       "      <td>1</td>\n",
       "      <td>8</td>\n",
       "      <td>1.000000</td>\n",
       "      <td>15.600000</td>\n",
       "    </tr>\n",
       "    <tr>\n",
       "      <th>13820008</th>\n",
       "      <td>2</td>\n",
       "      <td>2019-10-01 08:40:57</td>\n",
       "      <td>2019-10-01 09:14:54</td>\n",
       "      <td>N</td>\n",
       "      <td>1.0</td>\n",
       "      <td>41</td>\n",
       "      <td>234</td>\n",
       "      <td>1.0</td>\n",
       "      <td>5.27</td>\n",
       "      <td>23.50</td>\n",
       "      <td>...</td>\n",
       "      <td>1.0</td>\n",
       "      <td>1.0</td>\n",
       "      <td>2.75</td>\n",
       "      <td>2019-10-01</td>\n",
       "      <td>10</td>\n",
       "      <td>2019</td>\n",
       "      <td>1</td>\n",
       "      <td>8</td>\n",
       "      <td>33.950000</td>\n",
       "      <td>9.313697</td>\n",
       "    </tr>\n",
       "    <tr>\n",
       "      <th>13820367</th>\n",
       "      <td>2</td>\n",
       "      <td>2019-10-01 08:00:06</td>\n",
       "      <td>2019-10-01 08:34:41</td>\n",
       "      <td>N</td>\n",
       "      <td>1.0</td>\n",
       "      <td>66</td>\n",
       "      <td>66</td>\n",
       "      <td>5.0</td>\n",
       "      <td>9.83</td>\n",
       "      <td>33.00</td>\n",
       "      <td>...</td>\n",
       "      <td>1.0</td>\n",
       "      <td>1.0</td>\n",
       "      <td>2.75</td>\n",
       "      <td>2019-10-01</td>\n",
       "      <td>10</td>\n",
       "      <td>2019</td>\n",
       "      <td>1</td>\n",
       "      <td>8</td>\n",
       "      <td>34.583333</td>\n",
       "      <td>17.054458</td>\n",
       "    </tr>\n",
       "    <tr>\n",
       "      <th>13820407</th>\n",
       "      <td>2</td>\n",
       "      <td>2019-10-01 08:01:21</td>\n",
       "      <td>2019-10-01 08:06:11</td>\n",
       "      <td>N</td>\n",
       "      <td>1.0</td>\n",
       "      <td>42</td>\n",
       "      <td>41</td>\n",
       "      <td>1.0</td>\n",
       "      <td>0.84</td>\n",
       "      <td>5.50</td>\n",
       "      <td>...</td>\n",
       "      <td>1.0</td>\n",
       "      <td>1.0</td>\n",
       "      <td>0.00</td>\n",
       "      <td>2019-10-01</td>\n",
       "      <td>10</td>\n",
       "      <td>2019</td>\n",
       "      <td>1</td>\n",
       "      <td>8</td>\n",
       "      <td>4.833333</td>\n",
       "      <td>10.427586</td>\n",
       "    </tr>\n",
       "    <tr>\n",
       "      <th>13820429</th>\n",
       "      <td>2</td>\n",
       "      <td>2019-10-01 08:01:45</td>\n",
       "      <td>2019-10-01 08:13:53</td>\n",
       "      <td>N</td>\n",
       "      <td>1.0</td>\n",
       "      <td>7</td>\n",
       "      <td>145</td>\n",
       "      <td>1.0</td>\n",
       "      <td>2.69</td>\n",
       "      <td>11.00</td>\n",
       "      <td>...</td>\n",
       "      <td>1.0</td>\n",
       "      <td>1.0</td>\n",
       "      <td>0.00</td>\n",
       "      <td>2019-10-01</td>\n",
       "      <td>10</td>\n",
       "      <td>2019</td>\n",
       "      <td>1</td>\n",
       "      <td>8</td>\n",
       "      <td>12.133333</td>\n",
       "      <td>13.302198</td>\n",
       "    </tr>\n",
       "    <tr>\n",
       "      <th>...</th>\n",
       "      <td>...</td>\n",
       "      <td>...</td>\n",
       "      <td>...</td>\n",
       "      <td>...</td>\n",
       "      <td>...</td>\n",
       "      <td>...</td>\n",
       "      <td>...</td>\n",
       "      <td>...</td>\n",
       "      <td>...</td>\n",
       "      <td>...</td>\n",
       "      <td>...</td>\n",
       "      <td>...</td>\n",
       "      <td>...</td>\n",
       "      <td>...</td>\n",
       "      <td>...</td>\n",
       "      <td>...</td>\n",
       "      <td>...</td>\n",
       "      <td>...</td>\n",
       "      <td>...</td>\n",
       "      <td>...</td>\n",
       "      <td>...</td>\n",
       "    </tr>\n",
       "    <tr>\n",
       "      <th>14207089</th>\n",
       "      <td>2</td>\n",
       "      <td>2019-10-01 09:47:00</td>\n",
       "      <td>2019-10-01 10:21:00</td>\n",
       "      <td>NaN</td>\n",
       "      <td>NaN</td>\n",
       "      <td>127</td>\n",
       "      <td>231</td>\n",
       "      <td>NaN</td>\n",
       "      <td>12.92</td>\n",
       "      <td>43.72</td>\n",
       "      <td>...</td>\n",
       "      <td>NaN</td>\n",
       "      <td>NaN</td>\n",
       "      <td>NaN</td>\n",
       "      <td>2019-10-01</td>\n",
       "      <td>10</td>\n",
       "      <td>2019</td>\n",
       "      <td>1</td>\n",
       "      <td>9</td>\n",
       "      <td>34.000000</td>\n",
       "      <td>22.800000</td>\n",
       "    </tr>\n",
       "    <tr>\n",
       "      <th>14207090</th>\n",
       "      <td>2</td>\n",
       "      <td>2019-10-01 09:34:00</td>\n",
       "      <td>2019-10-01 10:07:00</td>\n",
       "      <td>NaN</td>\n",
       "      <td>NaN</td>\n",
       "      <td>85</td>\n",
       "      <td>55</td>\n",
       "      <td>NaN</td>\n",
       "      <td>6.74</td>\n",
       "      <td>39.75</td>\n",
       "      <td>...</td>\n",
       "      <td>NaN</td>\n",
       "      <td>NaN</td>\n",
       "      <td>NaN</td>\n",
       "      <td>2019-10-01</td>\n",
       "      <td>10</td>\n",
       "      <td>2019</td>\n",
       "      <td>1</td>\n",
       "      <td>9</td>\n",
       "      <td>33.000000</td>\n",
       "      <td>12.254545</td>\n",
       "    </tr>\n",
       "    <tr>\n",
       "      <th>14207091</th>\n",
       "      <td>2</td>\n",
       "      <td>2019-10-01 09:31:00</td>\n",
       "      <td>2019-10-01 09:59:00</td>\n",
       "      <td>NaN</td>\n",
       "      <td>NaN</td>\n",
       "      <td>42</td>\n",
       "      <td>229</td>\n",
       "      <td>NaN</td>\n",
       "      <td>6.60</td>\n",
       "      <td>21.72</td>\n",
       "      <td>...</td>\n",
       "      <td>NaN</td>\n",
       "      <td>NaN</td>\n",
       "      <td>NaN</td>\n",
       "      <td>2019-10-01</td>\n",
       "      <td>10</td>\n",
       "      <td>2019</td>\n",
       "      <td>1</td>\n",
       "      <td>9</td>\n",
       "      <td>28.000000</td>\n",
       "      <td>14.142857</td>\n",
       "    </tr>\n",
       "    <tr>\n",
       "      <th>14207092</th>\n",
       "      <td>2</td>\n",
       "      <td>2019-10-01 09:44:00</td>\n",
       "      <td>2019-10-01 10:04:00</td>\n",
       "      <td>NaN</td>\n",
       "      <td>NaN</td>\n",
       "      <td>89</td>\n",
       "      <td>181</td>\n",
       "      <td>NaN</td>\n",
       "      <td>3.43</td>\n",
       "      <td>21.44</td>\n",
       "      <td>...</td>\n",
       "      <td>NaN</td>\n",
       "      <td>NaN</td>\n",
       "      <td>NaN</td>\n",
       "      <td>2019-10-01</td>\n",
       "      <td>10</td>\n",
       "      <td>2019</td>\n",
       "      <td>1</td>\n",
       "      <td>9</td>\n",
       "      <td>20.000000</td>\n",
       "      <td>10.290000</td>\n",
       "    </tr>\n",
       "    <tr>\n",
       "      <th>14207093</th>\n",
       "      <td>2</td>\n",
       "      <td>2019-10-01 09:10:00</td>\n",
       "      <td>2019-10-01 09:34:00</td>\n",
       "      <td>NaN</td>\n",
       "      <td>NaN</td>\n",
       "      <td>125</td>\n",
       "      <td>170</td>\n",
       "      <td>NaN</td>\n",
       "      <td>2.47</td>\n",
       "      <td>17.12</td>\n",
       "      <td>...</td>\n",
       "      <td>NaN</td>\n",
       "      <td>NaN</td>\n",
       "      <td>NaN</td>\n",
       "      <td>2019-10-01</td>\n",
       "      <td>10</td>\n",
       "      <td>2019</td>\n",
       "      <td>1</td>\n",
       "      <td>9</td>\n",
       "      <td>24.000000</td>\n",
       "      <td>6.175000</td>\n",
       "    </tr>\n",
       "  </tbody>\n",
       "</table>\n",
       "<p>1573 rows × 27 columns</p>\n",
       "</div>"
      ],
      "text/plain": [
       "          VendorID lpep_pickup_datetime lpep_dropoff_datetime  \\\n",
       "13820007         2  2019-10-01 08:37:38   2019-10-01 08:38:38   \n",
       "13820008         2  2019-10-01 08:40:57   2019-10-01 09:14:54   \n",
       "13820367         2  2019-10-01 08:00:06   2019-10-01 08:34:41   \n",
       "13820407         2  2019-10-01 08:01:21   2019-10-01 08:06:11   \n",
       "13820429         2  2019-10-01 08:01:45   2019-10-01 08:13:53   \n",
       "...            ...                  ...                   ...   \n",
       "14207089         2  2019-10-01 09:47:00   2019-10-01 10:21:00   \n",
       "14207090         2  2019-10-01 09:34:00   2019-10-01 10:07:00   \n",
       "14207091         2  2019-10-01 09:31:00   2019-10-01 09:59:00   \n",
       "14207092         2  2019-10-01 09:44:00   2019-10-01 10:04:00   \n",
       "14207093         2  2019-10-01 09:10:00   2019-10-01 09:34:00   \n",
       "\n",
       "         store_and_fwd_flag  RatecodeID  PULocationID  DOLocationID  \\\n",
       "13820007                  N         1.0            42            42   \n",
       "13820008                  N         1.0            41           234   \n",
       "13820367                  N         1.0            66            66   \n",
       "13820407                  N         1.0            42            41   \n",
       "13820429                  N         1.0             7           145   \n",
       "...                     ...         ...           ...           ...   \n",
       "14207089                NaN         NaN           127           231   \n",
       "14207090                NaN         NaN            85            55   \n",
       "14207091                NaN         NaN            42           229   \n",
       "14207092                NaN         NaN            89           181   \n",
       "14207093                NaN         NaN           125           170   \n",
       "\n",
       "          passenger_count  trip_distance  fare_amount  ...  payment_type  \\\n",
       "13820007              1.0           0.26         3.00  ...           2.0   \n",
       "13820008              1.0           5.27        23.50  ...           1.0   \n",
       "13820367              5.0           9.83        33.00  ...           1.0   \n",
       "13820407              1.0           0.84         5.50  ...           1.0   \n",
       "13820429              1.0           2.69        11.00  ...           1.0   \n",
       "...                   ...            ...          ...  ...           ...   \n",
       "14207089              NaN          12.92        43.72  ...           NaN   \n",
       "14207090              NaN           6.74        39.75  ...           NaN   \n",
       "14207091              NaN           6.60        21.72  ...           NaN   \n",
       "14207092              NaN           3.43        21.44  ...           NaN   \n",
       "14207093              NaN           2.47        17.12  ...           NaN   \n",
       "\n",
       "          trip_type  congestion_surcharge        Date  Month  Year  DOW  Hour  \\\n",
       "13820007        1.0                  0.00  2019-10-01     10  2019    1     8   \n",
       "13820008        1.0                  2.75  2019-10-01     10  2019    1     8   \n",
       "13820367        1.0                  2.75  2019-10-01     10  2019    1     8   \n",
       "13820407        1.0                  0.00  2019-10-01     10  2019    1     8   \n",
       "13820429        1.0                  0.00  2019-10-01     10  2019    1     8   \n",
       "...             ...                   ...         ...    ...   ...  ...   ...   \n",
       "14207089        NaN                   NaN  2019-10-01     10  2019    1     9   \n",
       "14207090        NaN                   NaN  2019-10-01     10  2019    1     9   \n",
       "14207091        NaN                   NaN  2019-10-01     10  2019    1     9   \n",
       "14207092        NaN                   NaN  2019-10-01     10  2019    1     9   \n",
       "14207093        NaN                   NaN  2019-10-01     10  2019    1     9   \n",
       "\n",
       "          trip_duration      speed  \n",
       "13820007       1.000000  15.600000  \n",
       "13820008      33.950000   9.313697  \n",
       "13820367      34.583333  17.054458  \n",
       "13820407       4.833333  10.427586  \n",
       "13820429      12.133333  13.302198  \n",
       "...                 ...        ...  \n",
       "14207089      34.000000  22.800000  \n",
       "14207090      33.000000  12.254545  \n",
       "14207091      28.000000  14.142857  \n",
       "14207092      20.000000  10.290000  \n",
       "14207093      24.000000   6.175000  \n",
       "\n",
       "[1573 rows x 27 columns]"
      ]
     },
     "execution_count": 186,
     "metadata": {},
     "output_type": "execute_result"
    }
   ],
   "source": [
    "dfTaxiaMRH"
   ]
  },
  {
   "cell_type": "code",
   "execution_count": 187,
   "metadata": {},
   "outputs": [
    {
     "data": {
      "text/html": [
       "<div>\n",
       "<style scoped>\n",
       "    .dataframe tbody tr th:only-of-type {\n",
       "        vertical-align: middle;\n",
       "    }\n",
       "\n",
       "    .dataframe tbody tr th {\n",
       "        vertical-align: top;\n",
       "    }\n",
       "\n",
       "    .dataframe thead th {\n",
       "        text-align: right;\n",
       "    }\n",
       "</style>\n",
       "<table border=\"1\" class=\"dataframe\">\n",
       "  <thead>\n",
       "    <tr style=\"text-align: right;\">\n",
       "      <th></th>\n",
       "      <th>VendorID</th>\n",
       "      <th>lpep_pickup_datetime</th>\n",
       "      <th>lpep_dropoff_datetime</th>\n",
       "      <th>store_and_fwd_flag</th>\n",
       "      <th>RatecodeID</th>\n",
       "      <th>PULocationID</th>\n",
       "      <th>DOLocationID</th>\n",
       "      <th>passenger_count</th>\n",
       "      <th>trip_distance</th>\n",
       "      <th>fare_amount</th>\n",
       "      <th>...</th>\n",
       "      <th>payment_type</th>\n",
       "      <th>trip_type</th>\n",
       "      <th>congestion_surcharge</th>\n",
       "      <th>Date</th>\n",
       "      <th>Month</th>\n",
       "      <th>Year</th>\n",
       "      <th>DOW</th>\n",
       "      <th>Hour</th>\n",
       "      <th>trip_duration</th>\n",
       "      <th>speed</th>\n",
       "    </tr>\n",
       "  </thead>\n",
       "  <tbody>\n",
       "    <tr>\n",
       "      <th>13820144</th>\n",
       "      <td>2</td>\n",
       "      <td>2019-10-01 17:39:51</td>\n",
       "      <td>2019-10-01 17:48:08</td>\n",
       "      <td>N</td>\n",
       "      <td>1.0</td>\n",
       "      <td>223</td>\n",
       "      <td>179</td>\n",
       "      <td>1.0</td>\n",
       "      <td>1.34</td>\n",
       "      <td>7.50</td>\n",
       "      <td>...</td>\n",
       "      <td>1.0</td>\n",
       "      <td>1.0</td>\n",
       "      <td>0.0</td>\n",
       "      <td>2019-10-01</td>\n",
       "      <td>10</td>\n",
       "      <td>2019</td>\n",
       "      <td>1</td>\n",
       "      <td>17</td>\n",
       "      <td>8.283333</td>\n",
       "      <td>9.706237</td>\n",
       "    </tr>\n",
       "    <tr>\n",
       "      <th>13820277</th>\n",
       "      <td>2</td>\n",
       "      <td>2019-10-01 18:24:14</td>\n",
       "      <td>2019-10-01 18:30:59</td>\n",
       "      <td>N</td>\n",
       "      <td>1.0</td>\n",
       "      <td>223</td>\n",
       "      <td>223</td>\n",
       "      <td>1.0</td>\n",
       "      <td>1.54</td>\n",
       "      <td>7.00</td>\n",
       "      <td>...</td>\n",
       "      <td>2.0</td>\n",
       "      <td>1.0</td>\n",
       "      <td>0.0</td>\n",
       "      <td>2019-10-01</td>\n",
       "      <td>10</td>\n",
       "      <td>2019</td>\n",
       "      <td>1</td>\n",
       "      <td>18</td>\n",
       "      <td>6.750000</td>\n",
       "      <td>13.688889</td>\n",
       "    </tr>\n",
       "    <tr>\n",
       "      <th>13820278</th>\n",
       "      <td>2</td>\n",
       "      <td>2019-10-01 18:39:58</td>\n",
       "      <td>2019-10-01 18:45:27</td>\n",
       "      <td>N</td>\n",
       "      <td>1.0</td>\n",
       "      <td>223</td>\n",
       "      <td>223</td>\n",
       "      <td>1.0</td>\n",
       "      <td>0.87</td>\n",
       "      <td>5.50</td>\n",
       "      <td>...</td>\n",
       "      <td>2.0</td>\n",
       "      <td>1.0</td>\n",
       "      <td>0.0</td>\n",
       "      <td>2019-10-01</td>\n",
       "      <td>10</td>\n",
       "      <td>2019</td>\n",
       "      <td>1</td>\n",
       "      <td>18</td>\n",
       "      <td>5.483333</td>\n",
       "      <td>9.519757</td>\n",
       "    </tr>\n",
       "    <tr>\n",
       "      <th>13826350</th>\n",
       "      <td>2</td>\n",
       "      <td>2019-10-01 17:03:38</td>\n",
       "      <td>2019-10-01 17:39:01</td>\n",
       "      <td>N</td>\n",
       "      <td>1.0</td>\n",
       "      <td>173</td>\n",
       "      <td>82</td>\n",
       "      <td>1.0</td>\n",
       "      <td>3.11</td>\n",
       "      <td>21.00</td>\n",
       "      <td>...</td>\n",
       "      <td>2.0</td>\n",
       "      <td>1.0</td>\n",
       "      <td>0.0</td>\n",
       "      <td>2019-10-01</td>\n",
       "      <td>10</td>\n",
       "      <td>2019</td>\n",
       "      <td>1</td>\n",
       "      <td>17</td>\n",
       "      <td>35.383333</td>\n",
       "      <td>5.273669</td>\n",
       "    </tr>\n",
       "    <tr>\n",
       "      <th>13826383</th>\n",
       "      <td>2</td>\n",
       "      <td>2019-10-01 17:02:47</td>\n",
       "      <td>2019-10-01 17:13:22</td>\n",
       "      <td>N</td>\n",
       "      <td>1.0</td>\n",
       "      <td>129</td>\n",
       "      <td>7</td>\n",
       "      <td>1.0</td>\n",
       "      <td>1.57</td>\n",
       "      <td>9.00</td>\n",
       "      <td>...</td>\n",
       "      <td>2.0</td>\n",
       "      <td>1.0</td>\n",
       "      <td>0.0</td>\n",
       "      <td>2019-10-01</td>\n",
       "      <td>10</td>\n",
       "      <td>2019</td>\n",
       "      <td>1</td>\n",
       "      <td>17</td>\n",
       "      <td>10.583333</td>\n",
       "      <td>8.900787</td>\n",
       "    </tr>\n",
       "    <tr>\n",
       "      <th>...</th>\n",
       "      <td>...</td>\n",
       "      <td>...</td>\n",
       "      <td>...</td>\n",
       "      <td>...</td>\n",
       "      <td>...</td>\n",
       "      <td>...</td>\n",
       "      <td>...</td>\n",
       "      <td>...</td>\n",
       "      <td>...</td>\n",
       "      <td>...</td>\n",
       "      <td>...</td>\n",
       "      <td>...</td>\n",
       "      <td>...</td>\n",
       "      <td>...</td>\n",
       "      <td>...</td>\n",
       "      <td>...</td>\n",
       "      <td>...</td>\n",
       "      <td>...</td>\n",
       "      <td>...</td>\n",
       "      <td>...</td>\n",
       "      <td>...</td>\n",
       "    </tr>\n",
       "    <tr>\n",
       "      <th>14208385</th>\n",
       "      <td>2</td>\n",
       "      <td>2019-10-01 18:28:00</td>\n",
       "      <td>2019-10-01 18:48:00</td>\n",
       "      <td>NaN</td>\n",
       "      <td>NaN</td>\n",
       "      <td>254</td>\n",
       "      <td>119</td>\n",
       "      <td>NaN</td>\n",
       "      <td>6.92</td>\n",
       "      <td>23.01</td>\n",
       "      <td>...</td>\n",
       "      <td>NaN</td>\n",
       "      <td>NaN</td>\n",
       "      <td>NaN</td>\n",
       "      <td>2019-10-01</td>\n",
       "      <td>10</td>\n",
       "      <td>2019</td>\n",
       "      <td>1</td>\n",
       "      <td>18</td>\n",
       "      <td>20.000000</td>\n",
       "      <td>20.760000</td>\n",
       "    </tr>\n",
       "    <tr>\n",
       "      <th>14208386</th>\n",
       "      <td>2</td>\n",
       "      <td>2019-10-01 18:40:00</td>\n",
       "      <td>2019-10-01 19:04:00</td>\n",
       "      <td>NaN</td>\n",
       "      <td>NaN</td>\n",
       "      <td>168</td>\n",
       "      <td>131</td>\n",
       "      <td>NaN</td>\n",
       "      <td>14.78</td>\n",
       "      <td>42.74</td>\n",
       "      <td>...</td>\n",
       "      <td>NaN</td>\n",
       "      <td>NaN</td>\n",
       "      <td>NaN</td>\n",
       "      <td>2019-10-01</td>\n",
       "      <td>10</td>\n",
       "      <td>2019</td>\n",
       "      <td>1</td>\n",
       "      <td>18</td>\n",
       "      <td>24.000000</td>\n",
       "      <td>36.950000</td>\n",
       "    </tr>\n",
       "    <tr>\n",
       "      <th>14208387</th>\n",
       "      <td>2</td>\n",
       "      <td>2019-10-01 18:14:00</td>\n",
       "      <td>2019-10-01 18:42:00</td>\n",
       "      <td>NaN</td>\n",
       "      <td>NaN</td>\n",
       "      <td>17</td>\n",
       "      <td>76</td>\n",
       "      <td>NaN</td>\n",
       "      <td>6.01</td>\n",
       "      <td>26.63</td>\n",
       "      <td>...</td>\n",
       "      <td>NaN</td>\n",
       "      <td>NaN</td>\n",
       "      <td>NaN</td>\n",
       "      <td>2019-10-01</td>\n",
       "      <td>10</td>\n",
       "      <td>2019</td>\n",
       "      <td>1</td>\n",
       "      <td>18</td>\n",
       "      <td>28.000000</td>\n",
       "      <td>12.878571</td>\n",
       "    </tr>\n",
       "    <tr>\n",
       "      <th>14208388</th>\n",
       "      <td>2</td>\n",
       "      <td>2019-10-01 18:36:00</td>\n",
       "      <td>2019-10-01 18:50:00</td>\n",
       "      <td>NaN</td>\n",
       "      <td>NaN</td>\n",
       "      <td>69</td>\n",
       "      <td>18</td>\n",
       "      <td>NaN</td>\n",
       "      <td>3.45</td>\n",
       "      <td>23.01</td>\n",
       "      <td>...</td>\n",
       "      <td>NaN</td>\n",
       "      <td>NaN</td>\n",
       "      <td>NaN</td>\n",
       "      <td>2019-10-01</td>\n",
       "      <td>10</td>\n",
       "      <td>2019</td>\n",
       "      <td>1</td>\n",
       "      <td>18</td>\n",
       "      <td>14.000000</td>\n",
       "      <td>14.785714</td>\n",
       "    </tr>\n",
       "    <tr>\n",
       "      <th>14208389</th>\n",
       "      <td>2</td>\n",
       "      <td>2019-10-01 18:35:00</td>\n",
       "      <td>2019-10-01 18:57:00</td>\n",
       "      <td>NaN</td>\n",
       "      <td>NaN</td>\n",
       "      <td>49</td>\n",
       "      <td>113</td>\n",
       "      <td>NaN</td>\n",
       "      <td>4.76</td>\n",
       "      <td>25.75</td>\n",
       "      <td>...</td>\n",
       "      <td>NaN</td>\n",
       "      <td>NaN</td>\n",
       "      <td>NaN</td>\n",
       "      <td>2019-10-01</td>\n",
       "      <td>10</td>\n",
       "      <td>2019</td>\n",
       "      <td>1</td>\n",
       "      <td>18</td>\n",
       "      <td>22.000000</td>\n",
       "      <td>12.981818</td>\n",
       "    </tr>\n",
       "  </tbody>\n",
       "</table>\n",
       "<p>1951 rows × 27 columns</p>\n",
       "</div>"
      ],
      "text/plain": [
       "          VendorID lpep_pickup_datetime lpep_dropoff_datetime  \\\n",
       "13820144         2  2019-10-01 17:39:51   2019-10-01 17:48:08   \n",
       "13820277         2  2019-10-01 18:24:14   2019-10-01 18:30:59   \n",
       "13820278         2  2019-10-01 18:39:58   2019-10-01 18:45:27   \n",
       "13826350         2  2019-10-01 17:03:38   2019-10-01 17:39:01   \n",
       "13826383         2  2019-10-01 17:02:47   2019-10-01 17:13:22   \n",
       "...            ...                  ...                   ...   \n",
       "14208385         2  2019-10-01 18:28:00   2019-10-01 18:48:00   \n",
       "14208386         2  2019-10-01 18:40:00   2019-10-01 19:04:00   \n",
       "14208387         2  2019-10-01 18:14:00   2019-10-01 18:42:00   \n",
       "14208388         2  2019-10-01 18:36:00   2019-10-01 18:50:00   \n",
       "14208389         2  2019-10-01 18:35:00   2019-10-01 18:57:00   \n",
       "\n",
       "         store_and_fwd_flag  RatecodeID  PULocationID  DOLocationID  \\\n",
       "13820144                  N         1.0           223           179   \n",
       "13820277                  N         1.0           223           223   \n",
       "13820278                  N         1.0           223           223   \n",
       "13826350                  N         1.0           173            82   \n",
       "13826383                  N         1.0           129             7   \n",
       "...                     ...         ...           ...           ...   \n",
       "14208385                NaN         NaN           254           119   \n",
       "14208386                NaN         NaN           168           131   \n",
       "14208387                NaN         NaN            17            76   \n",
       "14208388                NaN         NaN            69            18   \n",
       "14208389                NaN         NaN            49           113   \n",
       "\n",
       "          passenger_count  trip_distance  fare_amount  ...  payment_type  \\\n",
       "13820144              1.0           1.34         7.50  ...           1.0   \n",
       "13820277              1.0           1.54         7.00  ...           2.0   \n",
       "13820278              1.0           0.87         5.50  ...           2.0   \n",
       "13826350              1.0           3.11        21.00  ...           2.0   \n",
       "13826383              1.0           1.57         9.00  ...           2.0   \n",
       "...                   ...            ...          ...  ...           ...   \n",
       "14208385              NaN           6.92        23.01  ...           NaN   \n",
       "14208386              NaN          14.78        42.74  ...           NaN   \n",
       "14208387              NaN           6.01        26.63  ...           NaN   \n",
       "14208388              NaN           3.45        23.01  ...           NaN   \n",
       "14208389              NaN           4.76        25.75  ...           NaN   \n",
       "\n",
       "          trip_type  congestion_surcharge        Date  Month  Year  DOW  Hour  \\\n",
       "13820144        1.0                   0.0  2019-10-01     10  2019    1    17   \n",
       "13820277        1.0                   0.0  2019-10-01     10  2019    1    18   \n",
       "13820278        1.0                   0.0  2019-10-01     10  2019    1    18   \n",
       "13826350        1.0                   0.0  2019-10-01     10  2019    1    17   \n",
       "13826383        1.0                   0.0  2019-10-01     10  2019    1    17   \n",
       "...             ...                   ...         ...    ...   ...  ...   ...   \n",
       "14208385        NaN                   NaN  2019-10-01     10  2019    1    18   \n",
       "14208386        NaN                   NaN  2019-10-01     10  2019    1    18   \n",
       "14208387        NaN                   NaN  2019-10-01     10  2019    1    18   \n",
       "14208388        NaN                   NaN  2019-10-01     10  2019    1    18   \n",
       "14208389        NaN                   NaN  2019-10-01     10  2019    1    18   \n",
       "\n",
       "          trip_duration      speed  \n",
       "13820144       8.283333   9.706237  \n",
       "13820277       6.750000  13.688889  \n",
       "13820278       5.483333   9.519757  \n",
       "13826350      35.383333   5.273669  \n",
       "13826383      10.583333   8.900787  \n",
       "...                 ...        ...  \n",
       "14208385      20.000000  20.760000  \n",
       "14208386      24.000000  36.950000  \n",
       "14208387      28.000000  12.878571  \n",
       "14208388      14.000000  14.785714  \n",
       "14208389      22.000000  12.981818  \n",
       "\n",
       "[1951 rows x 27 columns]"
      ]
     },
     "execution_count": 187,
     "metadata": {},
     "output_type": "execute_result"
    }
   ],
   "source": [
    "dfTaxiaERH"
   ]
  },
  {
   "cell_type": "code",
   "execution_count": 188,
   "metadata": {},
   "outputs": [
    {
     "data": {
      "text/plain": [
       "Ttest_indResult(statistic=5.316218844376528, pvalue=1.1253493376433041e-07)"
      ]
     },
     "execution_count": 188,
     "metadata": {},
     "output_type": "execute_result"
    }
   ],
   "source": [
    "stats.ttest_ind(dfTaxiaMRH['speed'],dfTaxiaERH['speed'])"
   ]
  },
  {
   "cell_type": "code",
   "execution_count": 189,
   "metadata": {},
   "outputs": [
    {
     "data": {
      "text/plain": [
       "KstestResult(statistic=0.06860517517057287, pvalue=0.0005164093592973096)"
      ]
     },
     "execution_count": 189,
     "metadata": {},
     "output_type": "execute_result"
    }
   ],
   "source": [
    "stats.ks_2samp(dfTaxiaMRH['speed'],dfTaxiaERH['speed'])"
   ]
  },
  {
   "cell_type": "code",
   "execution_count": 190,
   "metadata": {},
   "outputs": [],
   "source": [
    "#t-test pvalue=1.1253493376433041e-07 and below 0.05, ks-test pvalue=0.0005164093592973096 and below 0.05.\n",
    "#reject the hypothesis that the compared speed samples have the same mean and distribution at a 95% significance level"
   ]
  },
  {
   "cell_type": "markdown",
   "metadata": {},
   "source": [
    "## Task 2. Travel speed - days of the week\n",
    "Traffic and travel speed also vary during different weekdays. a) Compute average travel speed per each of the 7 days of the week (among all the individual trips happening on Mondays, Tuesdays, Wednesdays etc); visualize those as a bar plot. Then compute average travel speed per each day of the year and perform a pairwise comparison between the distributions of the daily speed averages within different days of the week (i.e. distribution of all Mondays vs all Tuesdays etc). Compute p-value of the ks-test for each pair of the different weekdays and compare with 5\\%. As a results we are expecting a 7*7 pandas dataframe filled with \"reject\" (if p-value below 5\\%), \"keep\" (if p-value above 5\\%) and \"-\" on the diagonal."
   ]
  },
  {
   "cell_type": "code",
   "execution_count": 191,
   "metadata": {},
   "outputs": [],
   "source": [
    "#a)\n",
    "dfTaxib=dfTaxi.groupby(['DOW']).agg({'trip_distance':'sum','trip_duration':'sum'}).reset_index()\n",
    "dfTaxib['avg_speed']=dfTaxib['trip_distance']/dfTaxib['trip_duration']*60"
   ]
  },
  {
   "cell_type": "code",
   "execution_count": 192,
   "metadata": {},
   "outputs": [
    {
     "data": {
      "text/plain": [
       "<AxesSubplot:>"
      ]
     },
     "execution_count": 192,
     "metadata": {},
     "output_type": "execute_result"
    },
    {
     "data": {
      "image/png": "[encoded data removed]",
      "text/plain": [
       "<Figure size 432x288 with 1 Axes>"
      ]
     },
     "metadata": {
      "needs_background": "light"
     },
     "output_type": "display_data"
    }
   ],
   "source": [
    "dfTaxib['avg_speed'].plot.bar()"
   ]
  },
  {
   "cell_type": "code",
   "execution_count": 193,
   "metadata": {},
   "outputs": [],
   "source": [
    "dfTaxic=dfTaxi.groupby(['Date']).agg({'trip_distance':'sum','trip_duration':'sum'}).reset_index()\n",
    "dfTaxic['avg_speed']=dfTaxic['trip_distance']/dfTaxic['trip_duration']*60"
   ]
  },
  {
   "cell_type": "code",
   "execution_count": 194,
   "metadata": {},
   "outputs": [
    {
     "data": {
      "text/html": [
       "<div>\n",
       "<style scoped>\n",
       "    .dataframe tbody tr th:only-of-type {\n",
       "        vertical-align: middle;\n",
       "    }\n",
       "\n",
       "    .dataframe tbody tr th {\n",
       "        vertical-align: top;\n",
       "    }\n",
       "\n",
       "    .dataframe thead th {\n",
       "        text-align: right;\n",
       "    }\n",
       "</style>\n",
       "<table border=\"1\" class=\"dataframe\">\n",
       "  <thead>\n",
       "    <tr style=\"text-align: right;\">\n",
       "      <th></th>\n",
       "      <th>Date</th>\n",
       "      <th>trip_distance</th>\n",
       "      <th>trip_duration</th>\n",
       "      <th>avg_speed</th>\n",
       "      <th>DOW</th>\n",
       "    </tr>\n",
       "  </thead>\n",
       "  <tbody>\n",
       "    <tr>\n",
       "      <th>0</th>\n",
       "      <td>2018-01-01</td>\n",
       "      <td>67911.34</td>\n",
       "      <td>263853.966667</td>\n",
       "      <td>15.442938</td>\n",
       "      <td>0</td>\n",
       "    </tr>\n",
       "    <tr>\n",
       "      <th>1</th>\n",
       "      <td>2018-01-02</td>\n",
       "      <td>59493.64</td>\n",
       "      <td>274362.416667</td>\n",
       "      <td>13.010595</td>\n",
       "      <td>1</td>\n",
       "    </tr>\n",
       "    <tr>\n",
       "      <th>2</th>\n",
       "      <td>2018-01-03</td>\n",
       "      <td>69394.22</td>\n",
       "      <td>341670.100000</td>\n",
       "      <td>12.186180</td>\n",
       "      <td>2</td>\n",
       "    </tr>\n",
       "    <tr>\n",
       "      <th>3</th>\n",
       "      <td>2018-01-04</td>\n",
       "      <td>16403.10</td>\n",
       "      <td>80896.516667</td>\n",
       "      <td>12.165987</td>\n",
       "      <td>3</td>\n",
       "    </tr>\n",
       "    <tr>\n",
       "      <th>4</th>\n",
       "      <td>2018-01-05</td>\n",
       "      <td>64290.25</td>\n",
       "      <td>341303.233333</td>\n",
       "      <td>11.302017</td>\n",
       "      <td>4</td>\n",
       "    </tr>\n",
       "    <tr>\n",
       "      <th>...</th>\n",
       "      <td>...</td>\n",
       "      <td>...</td>\n",
       "      <td>...</td>\n",
       "      <td>...</td>\n",
       "      <td>...</td>\n",
       "    </tr>\n",
       "    <tr>\n",
       "      <th>907</th>\n",
       "      <td>2020-06-26</td>\n",
       "      <td>12314.68</td>\n",
       "      <td>45874.233333</td>\n",
       "      <td>16.106663</td>\n",
       "      <td>4</td>\n",
       "    </tr>\n",
       "    <tr>\n",
       "      <th>908</th>\n",
       "      <td>2020-06-27</td>\n",
       "      <td>7642.07</td>\n",
       "      <td>25746.750000</td>\n",
       "      <td>17.809013</td>\n",
       "      <td>5</td>\n",
       "    </tr>\n",
       "    <tr>\n",
       "      <th>909</th>\n",
       "      <td>2020-06-28</td>\n",
       "      <td>6713.17</td>\n",
       "      <td>20931.033333</td>\n",
       "      <td>19.243684</td>\n",
       "      <td>6</td>\n",
       "    </tr>\n",
       "    <tr>\n",
       "      <th>910</th>\n",
       "      <td>2020-06-29</td>\n",
       "      <td>11496.92</td>\n",
       "      <td>40750.166667</td>\n",
       "      <td>16.927911</td>\n",
       "      <td>0</td>\n",
       "    </tr>\n",
       "    <tr>\n",
       "      <th>911</th>\n",
       "      <td>2020-06-30</td>\n",
       "      <td>11502.23</td>\n",
       "      <td>43710.283333</td>\n",
       "      <td>15.788820</td>\n",
       "      <td>1</td>\n",
       "    </tr>\n",
       "  </tbody>\n",
       "</table>\n",
       "<p>912 rows × 5 columns</p>\n",
       "</div>"
      ],
      "text/plain": [
       "          Date  trip_distance  trip_duration  avg_speed  DOW\n",
       "0   2018-01-01       67911.34  263853.966667  15.442938    0\n",
       "1   2018-01-02       59493.64  274362.416667  13.010595    1\n",
       "2   2018-01-03       69394.22  341670.100000  12.186180    2\n",
       "3   2018-01-04       16403.10   80896.516667  12.165987    3\n",
       "4   2018-01-05       64290.25  341303.233333  11.302017    4\n",
       "..         ...            ...            ...        ...  ...\n",
       "907 2020-06-26       12314.68   45874.233333  16.106663    4\n",
       "908 2020-06-27        7642.07   25746.750000  17.809013    5\n",
       "909 2020-06-28        6713.17   20931.033333  19.243684    6\n",
       "910 2020-06-29       11496.92   40750.166667  16.927911    0\n",
       "911 2020-06-30       11502.23   43710.283333  15.788820    1\n",
       "\n",
       "[912 rows x 5 columns]"
      ]
     },
     "execution_count": 194,
     "metadata": {},
     "output_type": "execute_result"
    }
   ],
   "source": [
    "dfTaxic['Date']=pd.to_datetime(dfTaxic['Date'])\n",
    "dfTaxic['DOW'] = dfTaxic['Date'].dt.dayofweek\n",
    "dfTaxic"
   ]
  },
  {
   "cell_type": "code",
   "execution_count": 195,
   "metadata": {},
   "outputs": [
    {
     "data": {
      "text/plain": [
       "KstestResult(statistic=0.24427480916030533, pvalue=0.0007673093828356342)"
      ]
     },
     "execution_count": 195,
     "metadata": {},
     "output_type": "execute_result"
    }
   ],
   "source": [
    "stats.ks_2samp(dfTaxic.loc[dfTaxic['DOW']==0]['avg_speed'],dfTaxic.loc[dfTaxic['DOW']==1]['avg_speed'])#R"
   ]
  },
  {
   "cell_type": "code",
   "execution_count": 196,
   "metadata": {},
   "outputs": [
    {
     "data": {
      "text/plain": [
       "KstestResult(statistic=0.3015267175572519, pvalue=1.0920804697001074e-05)"
      ]
     },
     "execution_count": 196,
     "metadata": {},
     "output_type": "execute_result"
    }
   ],
   "source": [
    "stats.ks_2samp(dfTaxic.loc[dfTaxic['DOW']==0]['avg_speed'],dfTaxic.loc[dfTaxic['DOW']==2]['avg_speed'])#R"
   ]
  },
  {
   "cell_type": "code",
   "execution_count": 197,
   "metadata": {},
   "outputs": [
    {
     "data": {
      "text/plain": [
       "KstestResult(statistic=0.4467997651203758, pvalue=3.5125236053090703e-12)"
      ]
     },
     "execution_count": 197,
     "metadata": {},
     "output_type": "execute_result"
    }
   ],
   "source": [
    "stats.ks_2samp(dfTaxic.loc[dfTaxic['DOW']==0]['avg_speed'],dfTaxic.loc[dfTaxic['DOW']==3]['avg_speed'])#R"
   ]
  },
  {
   "cell_type": "code",
   "execution_count": 198,
   "metadata": {},
   "outputs": [
    {
     "data": {
      "text/plain": [
       "KstestResult(statistic=0.46218438050499117, pvalue=4.943823128655822e-13)"
      ]
     },
     "execution_count": 198,
     "metadata": {},
     "output_type": "execute_result"
    }
   ],
   "source": [
    "stats.ks_2samp(dfTaxic.loc[dfTaxic['DOW']==0]['avg_speed'],dfTaxic.loc[dfTaxic['DOW']==4]['avg_speed'])#R"
   ]
  },
  {
   "cell_type": "code",
   "execution_count": 199,
   "metadata": {},
   "outputs": [
    {
     "data": {
      "text/plain": [
       "KstestResult(statistic=0.3126247798003523, pvalue=3.1095316831430964e-06)"
      ]
     },
     "execution_count": 199,
     "metadata": {},
     "output_type": "execute_result"
    }
   ],
   "source": [
    "stats.ks_2samp(dfTaxic.loc[dfTaxic['DOW']==0]['avg_speed'],dfTaxic.loc[dfTaxic['DOW']==5]['avg_speed'])#R"
   ]
  },
  {
   "cell_type": "code",
   "execution_count": 200,
   "metadata": {},
   "outputs": [
    {
     "data": {
      "text/plain": [
       "KstestResult(statistic=0.6409277745155608, pvalue=6.661338147750939e-16)"
      ]
     },
     "execution_count": 200,
     "metadata": {},
     "output_type": "execute_result"
    }
   ],
   "source": [
    "stats.ks_2samp(dfTaxic.loc[dfTaxic['DOW']==0]['avg_speed'],dfTaxic.loc[dfTaxic['DOW']==6]['avg_speed'])#R"
   ]
  },
  {
   "cell_type": "code",
   "execution_count": 201,
   "metadata": {},
   "outputs": [
    {
     "data": {
      "text/plain": [
       "KstestResult(statistic=0.09530240751614798, pvalue=0.5495770947538914)"
      ]
     },
     "execution_count": 201,
     "metadata": {},
     "output_type": "execute_result"
    }
   ],
   "source": [
    "stats.ks_2samp(dfTaxic.loc[dfTaxic['DOW']==1]['avg_speed'],dfTaxic.loc[dfTaxic['DOW']==2]['avg_speed'])#Keep"
   ]
  },
  {
   "cell_type": "code",
   "execution_count": 202,
   "metadata": {},
   "outputs": [
    {
     "data": {
      "text/plain": [
       "KstestResult(statistic=0.27803875513799176, pvalue=6.672903398485808e-05)"
      ]
     },
     "execution_count": 202,
     "metadata": {},
     "output_type": "execute_result"
    }
   ],
   "source": [
    "stats.ks_2samp(dfTaxic.loc[dfTaxic['DOW']==1]['avg_speed'],dfTaxic.loc[dfTaxic['DOW']==3]['avg_speed'])#R"
   ]
  },
  {
   "cell_type": "code",
   "execution_count": 203,
   "metadata": {},
   "outputs": [
    {
     "data": {
      "text/plain": [
       "KstestResult(statistic=0.2630651790957134, pvalue=0.0001994605984404485)"
      ]
     },
     "execution_count": 203,
     "metadata": {},
     "output_type": "execute_result"
    }
   ],
   "source": [
    "stats.ks_2samp(dfTaxic.loc[dfTaxic['DOW']==1]['avg_speed'],dfTaxic.loc[dfTaxic['DOW']==4]['avg_speed'])#R"
   ]
  },
  {
   "cell_type": "code",
   "execution_count": 204,
   "metadata": {},
   "outputs": [
    {
     "data": {
      "text/plain": [
       "KstestResult(statistic=0.4805049911920141, pvalue=2.2426505097428162e-14)"
      ]
     },
     "execution_count": 204,
     "metadata": {},
     "output_type": "execute_result"
    }
   ],
   "source": [
    "stats.ks_2samp(dfTaxic.loc[dfTaxic['DOW']==1]['avg_speed'],dfTaxic.loc[dfTaxic['DOW']==5]['avg_speed'])#R"
   ]
  },
  {
   "cell_type": "code",
   "execution_count": 205,
   "metadata": {},
   "outputs": [
    {
     "data": {
      "text/plain": [
       "KstestResult(statistic=0.7631826189078097, pvalue=6.661338147750939e-16)"
      ]
     },
     "execution_count": 205,
     "metadata": {},
     "output_type": "execute_result"
    }
   ],
   "source": [
    "stats.ks_2samp(dfTaxic.loc[dfTaxic['DOW']==1]['avg_speed'],dfTaxic.loc[dfTaxic['DOW']==6]['avg_speed'])#R"
   ]
  },
  {
   "cell_type": "code",
   "execution_count": 206,
   "metadata": {},
   "outputs": [
    {
     "data": {
      "text/plain": [
       "KstestResult(statistic=0.23076923076923078, pvalue=0.0019008874893625732)"
      ]
     },
     "execution_count": 206,
     "metadata": {},
     "output_type": "execute_result"
    }
   ],
   "source": [
    "stats.ks_2samp(dfTaxic.loc[dfTaxic['DOW']==2]['avg_speed'],dfTaxic.loc[dfTaxic['DOW']==3]['avg_speed'])#R"
   ]
  },
  {
   "cell_type": "code",
   "execution_count": 207,
   "metadata": {},
   "outputs": [
    {
     "data": {
      "text/plain": [
       "KstestResult(statistic=0.2153846153846154, pvalue=0.004694096040382525)"
      ]
     },
     "execution_count": 207,
     "metadata": {},
     "output_type": "execute_result"
    }
   ],
   "source": [
    "stats.ks_2samp(dfTaxic.loc[dfTaxic['DOW']==2]['avg_speed'],dfTaxic.loc[dfTaxic['DOW']==4]['avg_speed'])#R"
   ]
  },
  {
   "cell_type": "code",
   "execution_count": 208,
   "metadata": {},
   "outputs": [
    {
     "data": {
      "text/plain": [
       "KstestResult(statistic=0.5461538461538461, pvalue=3.804591308996931e-18)"
      ]
     },
     "execution_count": 208,
     "metadata": {},
     "output_type": "execute_result"
    }
   ],
   "source": [
    "stats.ks_2samp(dfTaxic.loc[dfTaxic['DOW']==2]['avg_speed'],dfTaxic.loc[dfTaxic['DOW']==5]['avg_speed'])#R"
   ]
  },
  {
   "cell_type": "code",
   "execution_count": 209,
   "metadata": {},
   "outputs": [
    {
     "data": {
      "text/plain": [
       "KstestResult(statistic=0.7615384615384615, pvalue=3.0153638487100635e-37)"
      ]
     },
     "execution_count": 209,
     "metadata": {},
     "output_type": "execute_result"
    }
   ],
   "source": [
    "stats.ks_2samp(dfTaxic.loc[dfTaxic['DOW']==2]['avg_speed'],dfTaxic.loc[dfTaxic['DOW']==6]['avg_speed'])#R"
   ]
  },
  {
   "cell_type": "code",
   "execution_count": 210,
   "metadata": {},
   "outputs": [
    {
     "data": {
      "text/plain": [
       "KstestResult(statistic=0.046153846153846156, pvalue=0.9991792228558725)"
      ]
     },
     "execution_count": 210,
     "metadata": {},
     "output_type": "execute_result"
    }
   ],
   "source": [
    "stats.ks_2samp(dfTaxic.loc[dfTaxic['DOW']==3]['avg_speed'],dfTaxic.loc[dfTaxic['DOW']==4]['avg_speed'])#Keep"
   ]
  },
  {
   "cell_type": "code",
   "execution_count": 211,
   "metadata": {},
   "outputs": [
    {
     "data": {
      "text/plain": [
       "KstestResult(statistic=0.6307692307692307, pvalue=1.4233332297193913e-24)"
      ]
     },
     "execution_count": 211,
     "metadata": {},
     "output_type": "execute_result"
    }
   ],
   "source": [
    "stats.ks_2samp(dfTaxic.loc[dfTaxic['DOW']==3]['avg_speed'],dfTaxic.loc[dfTaxic['DOW']==5]['avg_speed'])#R"
   ]
  },
  {
   "cell_type": "code",
   "execution_count": 212,
   "metadata": {},
   "outputs": [
    {
     "data": {
      "text/plain": [
       "KstestResult(statistic=0.8, pvalue=9.148352419693812e-42)"
      ]
     },
     "execution_count": 212,
     "metadata": {},
     "output_type": "execute_result"
    }
   ],
   "source": [
    "stats.ks_2samp(dfTaxic.loc[dfTaxic['DOW']==3]['avg_speed'],dfTaxic.loc[dfTaxic['DOW']==6]['avg_speed'])#R"
   ]
  },
  {
   "cell_type": "code",
   "execution_count": 213,
   "metadata": {},
   "outputs": [
    {
     "data": {
      "text/plain": [
       "KstestResult(statistic=0.6307692307692307, pvalue=1.4233332297193913e-24)"
      ]
     },
     "execution_count": 213,
     "metadata": {},
     "output_type": "execute_result"
    }
   ],
   "source": [
    "stats.ks_2samp(dfTaxic.loc[dfTaxic['DOW']==4]['avg_speed'],dfTaxic.loc[dfTaxic['DOW']==5]['avg_speed'])#R"
   ]
  },
  {
   "cell_type": "code",
   "execution_count": 214,
   "metadata": {},
   "outputs": [
    {
     "data": {
      "text/plain": [
       "KstestResult(statistic=0.8, pvalue=9.148352419693812e-42)"
      ]
     },
     "execution_count": 214,
     "metadata": {},
     "output_type": "execute_result"
    }
   ],
   "source": [
    "stats.ks_2samp(dfTaxic.loc[dfTaxic['DOW']==4]['avg_speed'],dfTaxic.loc[dfTaxic['DOW']==6]['avg_speed'])#R"
   ]
  },
  {
   "cell_type": "code",
   "execution_count": 215,
   "metadata": {},
   "outputs": [
    {
     "data": {
      "text/plain": [
       "KstestResult(statistic=0.5461538461538461, pvalue=3.804591308996931e-18)"
      ]
     },
     "execution_count": 215,
     "metadata": {},
     "output_type": "execute_result"
    }
   ],
   "source": [
    "stats.ks_2samp(dfTaxic.loc[dfTaxic['DOW']==5]['avg_speed'],dfTaxic.loc[dfTaxic['DOW']==6]['avg_speed'])#R"
   ]
  },
  {
   "cell_type": "code",
   "execution_count": 216,
   "metadata": {},
   "outputs": [],
   "source": [
    "DOW=dfTaxic['DOW']"
   ]
  },
  {
   "cell_type": "code",
   "execution_count": 217,
   "metadata": {},
   "outputs": [],
   "source": [
    "newdf = pd.DataFrame(index=DOW.unique(), columns=DOW.unique())"
   ]
  },
  {
   "cell_type": "code",
   "execution_count": 218,
   "metadata": {},
   "outputs": [],
   "source": [
    "for i in DOW.unique():\n",
    "    for j in DOW.unique():\n",
    "        if i==j:\n",
    "            newdf.loc[i,j]='-  '\n",
    "        else:\n",
    "            data1 = dfTaxic[dfTaxic['DOW'] == i]['avg_speed']\n",
    "            data2 = dfTaxic[dfTaxic['DOW'] == j]['avg_speed']\n",
    "            _, pvalue = stats.ks_2samp(data1, data2)\n",
    "            if pvalue>=0.05:\n",
    "                newdf.loc[i,j]='keep '\n",
    "            else:\n",
    "                newdf.loc[i,j]='reject'\n",
    "                "
   ]
  },
  {
   "cell_type": "code",
   "execution_count": 219,
   "metadata": {},
   "outputs": [
    {
     "name": "stdout",
     "output_type": "stream",
     "text": [
      "        0       1       2       3       4       5       6\n",
      "0     -    reject  reject  reject  reject  reject  reject\n",
      "1  reject     -     keep   reject  reject  reject  reject\n",
      "2  reject   keep      -    reject  reject  reject  reject\n",
      "3  reject  reject  reject     -     keep   reject  reject\n",
      "4  reject  reject  reject   keep      -    reject  reject\n",
      "5  reject  reject  reject  reject  reject     -    reject\n",
      "6  reject  reject  reject  reject  reject  reject     -  \n"
     ]
    }
   ],
   "source": [
    "print(newdf)"
   ]
  },
  {
   "cell_type": "code",
   "execution_count": null,
   "metadata": {},
   "outputs": [],
   "source": []
  },
  {
   "cell_type": "markdown",
   "metadata": {},
   "source": [
    "## Task 3. Trip speeds per borough.\n",
    "\n",
    "For the day of Oct, 1, 2019 compute the average trip speed in Brooklyn, Queens and Bronx (by pickup). Then compare the samples of the trip speeds in Brooklyn, Queens and Bronx on that day using t-test and ks-test (pairwise comparison). Fill two 3x3 pandas dataframes (one for t-test, one for ks-test) with p-values for each pair of boroughs. Can we reject the null hypothesis that speed mean/distributions within each pair of boroughs is is similar?\n",
    "\n",
    "HINT: Download taxizone geojson from 'https://data.cityofnewyork.us/api/geospatial/d3c5-ddgc?method=export&format=GeoJSON' to define borough for each pickup taxi zone."
   ]
  },
  {
   "cell_type": "code",
   "execution_count": 220,
   "metadata": {},
   "outputs": [
    {
     "data": {
      "text/plain": [
       "('Data/TLC/taxizone.geojson', <http.client.HTTPMessage at 0x29173ea90a0>)"
      ]
     },
     "execution_count": 220,
     "metadata": {},
     "output_type": "execute_result"
    }
   ],
   "source": [
    "# download taxizone map\n",
    "file = 'taxizone.geojson'\n",
    "url = 'https://data.cityofnewyork.us/api/geospatial/d3c5-ddgc?method=export&format=GeoJSON'\n",
    "urllib.request.urlretrieve(url,'Data/TLC/'+file)"
   ]
  },
  {
   "cell_type": "code",
   "execution_count": 221,
   "metadata": {},
   "outputs": [],
   "source": [
    "geomap = gpd.read_file('https://data.cityofnewyork.us/api/geospatial/d3c5-ddgc?method=export&format=GeoJSON')\n",
    "\n",
    "dfTaxi_2019 = dfTaxi[dfTaxi['Date'] == pd.to_datetime('10/1/2019')]"
   ]
  },
  {
   "cell_type": "code",
   "execution_count": 222,
   "metadata": {},
   "outputs": [],
   "source": [
    "dfTaxi_2019['location_id'] = dfTaxi_2019['PULocationID'].astype(str)\n",
    "ndf = pd.merge(dfTaxi_2019 , geomap, left_on='location_id', right_on='location_id', how='left')\n"
   ]
  },
  {
   "cell_type": "code",
   "execution_count": 223,
   "metadata": {},
   "outputs": [
    {
     "data": {
      "text/html": [
       "<div>\n",
       "<style scoped>\n",
       "    .dataframe tbody tr th:only-of-type {\n",
       "        vertical-align: middle;\n",
       "    }\n",
       "\n",
       "    .dataframe tbody tr th {\n",
       "        vertical-align: top;\n",
       "    }\n",
       "\n",
       "    .dataframe thead th {\n",
       "        text-align: right;\n",
       "    }\n",
       "</style>\n",
       "<table border=\"1\" class=\"dataframe\">\n",
       "  <thead>\n",
       "    <tr style=\"text-align: right;\">\n",
       "      <th></th>\n",
       "      <th>trip_duration</th>\n",
       "      <th>trip_distance</th>\n",
       "      <th>avg_speed</th>\n",
       "    </tr>\n",
       "    <tr>\n",
       "      <th>borough</th>\n",
       "      <th></th>\n",
       "      <th></th>\n",
       "      <th></th>\n",
       "    </tr>\n",
       "  </thead>\n",
       "  <tbody>\n",
       "    <tr>\n",
       "      <th>Bronx</th>\n",
       "      <td>21668.050000</td>\n",
       "      <td>6101.52</td>\n",
       "      <td>16.895438</td>\n",
       "    </tr>\n",
       "    <tr>\n",
       "      <th>Brooklyn</th>\n",
       "      <td>68969.366667</td>\n",
       "      <td>15933.62</td>\n",
       "      <td>13.861476</td>\n",
       "    </tr>\n",
       "    <tr>\n",
       "      <th>Queens</th>\n",
       "      <td>51916.833333</td>\n",
       "      <td>12954.61</td>\n",
       "      <td>14.971572</td>\n",
       "    </tr>\n",
       "  </tbody>\n",
       "</table>\n",
       "</div>"
      ],
      "text/plain": [
       "          trip_duration  trip_distance  avg_speed\n",
       "borough                                          \n",
       "Bronx      21668.050000        6101.52  16.895438\n",
       "Brooklyn   68969.366667       15933.62  13.861476\n",
       "Queens     51916.833333       12954.61  14.971572"
      ]
     },
     "execution_count": 223,
     "metadata": {},
     "output_type": "execute_result"
    }
   ],
   "source": [
    "borough_speed = ndf[ndf['borough'].isin(['Brooklyn', 'Queens', 'Bronx'])].groupby('borough')['trip_duration','trip_distance'].sum()\n",
    "borough_speed['avg_speed']=borough_speed['trip_distance']/borough_speed['trip_duration']*60\n",
    "borough_speed"
   ]
  },
  {
   "cell_type": "code",
   "execution_count": 224,
   "metadata": {},
   "outputs": [],
   "source": [
    "ndf_BX= ndf[ndf['borough']=='Bronx']\n",
    "ndf_BK= ndf[ndf['borough']=='Brooklyn']\n",
    "ndf_QS= ndf[ndf['borough']=='Queens']"
   ]
  },
  {
   "cell_type": "code",
   "execution_count": 225,
   "metadata": {},
   "outputs": [
    {
     "data": {
      "text/plain": [
       "Ttest_indResult(statistic=12.658486361340884, pvalue=3.8346516391397284e-36)"
      ]
     },
     "execution_count": 225,
     "metadata": {},
     "output_type": "execute_result"
    }
   ],
   "source": [
    "stats.ttest_ind(ndf_BX['speed'],ndf_BK['speed'])#R"
   ]
  },
  {
   "cell_type": "code",
   "execution_count": 226,
   "metadata": {},
   "outputs": [
    {
     "data": {
      "text/plain": [
       "Ttest_indResult(statistic=6.815819334302827, pvalue=1.0587102508503335e-11)"
      ]
     },
     "execution_count": 226,
     "metadata": {},
     "output_type": "execute_result"
    }
   ],
   "source": [
    "stats.ttest_ind(ndf_BX['speed'],ndf_QS['speed'])#R"
   ]
  },
  {
   "cell_type": "code",
   "execution_count": 227,
   "metadata": {},
   "outputs": [
    {
     "data": {
      "text/plain": [
       "Ttest_indResult(statistic=-8.081343504522616, pvalue=7.438515878530461e-16)"
      ]
     },
     "execution_count": 227,
     "metadata": {},
     "output_type": "execute_result"
    }
   ],
   "source": [
    "stats.ttest_ind(ndf_BK['speed'],ndf_QS['speed'])#R"
   ]
  },
  {
   "cell_type": "code",
   "execution_count": 228,
   "metadata": {},
   "outputs": [],
   "source": [
    "borough=['Brooklyn', 'Queens', 'Bronx']\n",
    "nndf=ndf[ndf['borough'].isin(['Brooklyn', 'Queens', 'Bronx'])]\n",
    "ttest=pd.DataFrame(index=borough, columns=borough)\n",
    "ks=pd.DataFrame(index=borough, columns=borough)"
   ]
  },
  {
   "cell_type": "code",
   "execution_count": null,
   "metadata": {},
   "outputs": [],
   "source": []
  },
  {
   "cell_type": "code",
   "execution_count": 229,
   "metadata": {},
   "outputs": [],
   "source": [
    "for i in range(3):\n",
    "    for j in range(3):\n",
    "        if i == j:\n",
    "            ttest.loc[borough[i],borough[j]] = '-'\n",
    "        else:\n",
    "            data1 = nndf[nndf['borough'] == borough[i]]['speed']\n",
    "            data2 = nndf[nndf['borough'] == borough[j]]['speed']\n",
    "            _, pvalue = stats.ttest_ind(data1, data2)\n",
    "            ttest.loc[borough[i],borough[j]] = str(pvalue)"
   ]
  },
  {
   "cell_type": "code",
   "execution_count": 230,
   "metadata": {},
   "outputs": [
    {
     "data": {
      "text/html": [
       "<div>\n",
       "<style scoped>\n",
       "    .dataframe tbody tr th:only-of-type {\n",
       "        vertical-align: middle;\n",
       "    }\n",
       "\n",
       "    .dataframe tbody tr th {\n",
       "        vertical-align: top;\n",
       "    }\n",
       "\n",
       "    .dataframe thead th {\n",
       "        text-align: right;\n",
       "    }\n",
       "</style>\n",
       "<table border=\"1\" class=\"dataframe\">\n",
       "  <thead>\n",
       "    <tr style=\"text-align: right;\">\n",
       "      <th></th>\n",
       "      <th>Brooklyn</th>\n",
       "      <th>Queens</th>\n",
       "      <th>Bronx</th>\n",
       "    </tr>\n",
       "  </thead>\n",
       "  <tbody>\n",
       "    <tr>\n",
       "      <th>Brooklyn</th>\n",
       "      <td>-</td>\n",
       "      <td>7.438515878530461e-16</td>\n",
       "      <td>3.8346516391397284e-36</td>\n",
       "    </tr>\n",
       "    <tr>\n",
       "      <th>Queens</th>\n",
       "      <td>7.438515878530461e-16</td>\n",
       "      <td>-</td>\n",
       "      <td>1.0587102508503335e-11</td>\n",
       "    </tr>\n",
       "    <tr>\n",
       "      <th>Bronx</th>\n",
       "      <td>3.8346516391397284e-36</td>\n",
       "      <td>1.0587102508503335e-11</td>\n",
       "      <td>-</td>\n",
       "    </tr>\n",
       "  </tbody>\n",
       "</table>\n",
       "</div>"
      ],
      "text/plain": [
       "                        Brooklyn                  Queens  \\\n",
       "Brooklyn                       -   7.438515878530461e-16   \n",
       "Queens     7.438515878530461e-16                       -   \n",
       "Bronx     3.8346516391397284e-36  1.0587102508503335e-11   \n",
       "\n",
       "                           Bronx  \n",
       "Brooklyn  3.8346516391397284e-36  \n",
       "Queens    1.0587102508503335e-11  \n",
       "Bronx                          -  "
      ]
     },
     "execution_count": 230,
     "metadata": {},
     "output_type": "execute_result"
    }
   ],
   "source": [
    "ttest#we can reject the null hypothesis that speed mean within each pair of boroughs is similar"
   ]
  },
  {
   "cell_type": "code",
   "execution_count": 231,
   "metadata": {},
   "outputs": [
    {
     "data": {
      "text/plain": [
       "KstestResult(statistic=0.23025183728592324, pvalue=1.887379141862766e-15)"
      ]
     },
     "execution_count": 231,
     "metadata": {},
     "output_type": "execute_result"
    }
   ],
   "source": [
    "stats.ks_2samp(ndf_BX['speed'],ndf_BK['speed'])#R"
   ]
  },
  {
   "cell_type": "code",
   "execution_count": 232,
   "metadata": {},
   "outputs": [
    {
     "data": {
      "text/plain": [
       "KstestResult(statistic=0.13433446846476785, pvalue=6.932232565759477e-13)"
      ]
     },
     "execution_count": 232,
     "metadata": {},
     "output_type": "execute_result"
    }
   ],
   "source": [
    "stats.ks_2samp(ndf_BX['speed'],ndf_QS['speed'])#R"
   ]
  },
  {
   "cell_type": "code",
   "execution_count": 233,
   "metadata": {},
   "outputs": [
    {
     "data": {
      "text/plain": [
       "KstestResult(statistic=0.11322274699742486, pvalue=7.588900499927009e-21)"
      ]
     },
     "execution_count": 233,
     "metadata": {},
     "output_type": "execute_result"
    }
   ],
   "source": [
    "stats.ks_2samp(ndf_BK['speed'],ndf_QS['speed'])#R"
   ]
  },
  {
   "cell_type": "code",
   "execution_count": 234,
   "metadata": {},
   "outputs": [],
   "source": [
    "for i in range(3):\n",
    "    for j in range(3):\n",
    "        if i == j:\n",
    "            ks.loc[borough[i],borough[j]] = '-'\n",
    "        else:\n",
    "            data1 = nndf[nndf['borough'] == borough[i]]['speed']\n",
    "            data2 = nndf[nndf['borough'] == borough[j]]['speed']\n",
    "            _, pvalue = stats.ks_2samp(data1, data2)\n",
    "            ks.loc[borough[i],borough[j]] = str(pvalue)"
   ]
  },
  {
   "cell_type": "code",
   "execution_count": 235,
   "metadata": {},
   "outputs": [
    {
     "data": {
      "text/html": [
       "<div>\n",
       "<style scoped>\n",
       "    .dataframe tbody tr th:only-of-type {\n",
       "        vertical-align: middle;\n",
       "    }\n",
       "\n",
       "    .dataframe tbody tr th {\n",
       "        vertical-align: top;\n",
       "    }\n",
       "\n",
       "    .dataframe thead th {\n",
       "        text-align: right;\n",
       "    }\n",
       "</style>\n",
       "<table border=\"1\" class=\"dataframe\">\n",
       "  <thead>\n",
       "    <tr style=\"text-align: right;\">\n",
       "      <th></th>\n",
       "      <th>Brooklyn</th>\n",
       "      <th>Queens</th>\n",
       "      <th>Bronx</th>\n",
       "    </tr>\n",
       "  </thead>\n",
       "  <tbody>\n",
       "    <tr>\n",
       "      <th>Brooklyn</th>\n",
       "      <td>-</td>\n",
       "      <td>7.588900499927009e-21</td>\n",
       "      <td>1.887379141862766e-15</td>\n",
       "    </tr>\n",
       "    <tr>\n",
       "      <th>Queens</th>\n",
       "      <td>7.588900499927009e-21</td>\n",
       "      <td>-</td>\n",
       "      <td>6.932232565759477e-13</td>\n",
       "    </tr>\n",
       "    <tr>\n",
       "      <th>Bronx</th>\n",
       "      <td>1.887379141862766e-15</td>\n",
       "      <td>6.932232565759477e-13</td>\n",
       "      <td>-</td>\n",
       "    </tr>\n",
       "  </tbody>\n",
       "</table>\n",
       "</div>"
      ],
      "text/plain": [
       "                       Brooklyn                 Queens                  Bronx\n",
       "Brooklyn                      -  7.588900499927009e-21  1.887379141862766e-15\n",
       "Queens    7.588900499927009e-21                      -  6.932232565759477e-13\n",
       "Bronx     1.887379141862766e-15  6.932232565759477e-13                      -"
      ]
     },
     "execution_count": 235,
     "metadata": {},
     "output_type": "execute_result"
    }
   ],
   "source": [
    "ks#we can reject the null hypothesis that speed distributions within each pair of boroughs is similar"
   ]
  },
  {
   "cell_type": "code",
   "execution_count": 236,
   "metadata": {},
   "outputs": [],
   "source": [
    "#p-values all below 0.05, so we can reject the null hypothesis that speed mean and distributions within each pair of boroughs is similar"
   ]
  },
  {
   "cell_type": "code",
   "execution_count": null,
   "metadata": {},
   "outputs": [],
   "source": []
  },
  {
   "cell_type": "code",
   "execution_count": null,
   "metadata": {},
   "outputs": [],
   "source": []
  },
  {
   "cell_type": "markdown",
   "metadata": {},
   "source": [
    "# Task 4. Ridership drop during pandemics\n",
    "No doubt that 2020 saw a large drop in ridership but how can we assess it? Keep in mind that we don't have the full year, the drop just started in March and there is also a general decline in taxi ridership, so we need a way to distinguish pandemics-related drop from the general trend. In order to account for it, normalize 2020 daily ridership data by the same day's 30-days rolling average (15 days before/after to smoothen out the effect of weekly variations within the baseline) in 2019, and compare the daily ratios of ridership after the shelter in place order (Mar 20th till June, 30th, 2020) and before (Jan, 16-Mar, 20th, 2020). Report p-values of ks-test and t-test. Can we reject the null hypothesis that daily ridership ratio average/distribution after March, 20, 2020 is the same as before? For comparison and to provide a baseline for evaluating results of the hypothesis testing perform the same analysis for the same periods of 2019. Can we reject the null hypothesis that daily ridership ratio average/distribution after March, 20, 2019 is the same as before?"
   ]
  },
  {
   "cell_type": "code",
   "execution_count": null,
   "metadata": {},
   "outputs": [],
   "source": []
  },
  {
   "cell_type": "code",
   "execution_count": 237,
   "metadata": {},
   "outputs": [
    {
     "data": {
      "text/html": [
       "<div>\n",
       "<style scoped>\n",
       "    .dataframe tbody tr th:only-of-type {\n",
       "        vertical-align: middle;\n",
       "    }\n",
       "\n",
       "    .dataframe tbody tr th {\n",
       "        vertical-align: top;\n",
       "    }\n",
       "\n",
       "    .dataframe thead th {\n",
       "        text-align: right;\n",
       "    }\n",
       "</style>\n",
       "<table border=\"1\" class=\"dataframe\">\n",
       "  <thead>\n",
       "    <tr style=\"text-align: right;\">\n",
       "      <th></th>\n",
       "      <th>Year</th>\n",
       "      <th>Month</th>\n",
       "      <th>DOW</th>\n",
       "      <th>Date</th>\n",
       "      <th>trip_count</th>\n",
       "      <th>trip_duration</th>\n",
       "      <th>trip_distance</th>\n",
       "      <th>speed</th>\n",
       "      <th>ravg</th>\n",
       "    </tr>\n",
       "  </thead>\n",
       "  <tbody>\n",
       "    <tr>\n",
       "      <th>0</th>\n",
       "      <td>2018</td>\n",
       "      <td>1</td>\n",
       "      <td>0</td>\n",
       "      <td>2018-01-01</td>\n",
       "      <td>22384</td>\n",
       "      <td>263853.966667</td>\n",
       "      <td>67911.34</td>\n",
       "      <td>15.442938</td>\n",
       "      <td>NaN</td>\n",
       "    </tr>\n",
       "    <tr>\n",
       "      <th>5</th>\n",
       "      <td>2018</td>\n",
       "      <td>1</td>\n",
       "      <td>1</td>\n",
       "      <td>2018-01-02</td>\n",
       "      <td>22583</td>\n",
       "      <td>274362.416667</td>\n",
       "      <td>59493.64</td>\n",
       "      <td>13.010595</td>\n",
       "      <td>NaN</td>\n",
       "    </tr>\n",
       "    <tr>\n",
       "      <th>10</th>\n",
       "      <td>2018</td>\n",
       "      <td>1</td>\n",
       "      <td>2</td>\n",
       "      <td>2018-01-03</td>\n",
       "      <td>25673</td>\n",
       "      <td>341670.100000</td>\n",
       "      <td>69394.22</td>\n",
       "      <td>12.186180</td>\n",
       "      <td>NaN</td>\n",
       "    </tr>\n",
       "    <tr>\n",
       "      <th>15</th>\n",
       "      <td>2018</td>\n",
       "      <td>1</td>\n",
       "      <td>3</td>\n",
       "      <td>2018-01-04</td>\n",
       "      <td>6297</td>\n",
       "      <td>80896.516667</td>\n",
       "      <td>16403.10</td>\n",
       "      <td>12.165987</td>\n",
       "      <td>NaN</td>\n",
       "    </tr>\n",
       "    <tr>\n",
       "      <th>19</th>\n",
       "      <td>2018</td>\n",
       "      <td>1</td>\n",
       "      <td>4</td>\n",
       "      <td>2018-01-05</td>\n",
       "      <td>26727</td>\n",
       "      <td>341303.233333</td>\n",
       "      <td>64290.25</td>\n",
       "      <td>11.302017</td>\n",
       "      <td>NaN</td>\n",
       "    </tr>\n",
       "    <tr>\n",
       "      <th>...</th>\n",
       "      <td>...</td>\n",
       "      <td>...</td>\n",
       "      <td>...</td>\n",
       "      <td>...</td>\n",
       "      <td>...</td>\n",
       "      <td>...</td>\n",
       "      <td>...</td>\n",
       "      <td>...</td>\n",
       "      <td>...</td>\n",
       "    </tr>\n",
       "    <tr>\n",
       "      <th>903</th>\n",
       "      <td>2020</td>\n",
       "      <td>6</td>\n",
       "      <td>4</td>\n",
       "      <td>2020-06-26</td>\n",
       "      <td>2470</td>\n",
       "      <td>45874.233333</td>\n",
       "      <td>12314.68</td>\n",
       "      <td>16.106663</td>\n",
       "      <td>1947.233333</td>\n",
       "    </tr>\n",
       "    <tr>\n",
       "      <th>907</th>\n",
       "      <td>2020</td>\n",
       "      <td>6</td>\n",
       "      <td>5</td>\n",
       "      <td>2020-06-27</td>\n",
       "      <td>1691</td>\n",
       "      <td>25746.750000</td>\n",
       "      <td>7642.07</td>\n",
       "      <td>17.809013</td>\n",
       "      <td>1939.933333</td>\n",
       "    </tr>\n",
       "    <tr>\n",
       "      <th>911</th>\n",
       "      <td>2020</td>\n",
       "      <td>6</td>\n",
       "      <td>6</td>\n",
       "      <td>2020-06-28</td>\n",
       "      <td>1341</td>\n",
       "      <td>20931.033333</td>\n",
       "      <td>6713.17</td>\n",
       "      <td>19.243684</td>\n",
       "      <td>1916.033333</td>\n",
       "    </tr>\n",
       "    <tr>\n",
       "      <th>886</th>\n",
       "      <td>2020</td>\n",
       "      <td>6</td>\n",
       "      <td>0</td>\n",
       "      <td>2020-06-29</td>\n",
       "      <td>2210</td>\n",
       "      <td>40750.166667</td>\n",
       "      <td>11496.92</td>\n",
       "      <td>16.927911</td>\n",
       "      <td>1936.566667</td>\n",
       "    </tr>\n",
       "    <tr>\n",
       "      <th>891</th>\n",
       "      <td>2020</td>\n",
       "      <td>6</td>\n",
       "      <td>1</td>\n",
       "      <td>2020-06-30</td>\n",
       "      <td>2263</td>\n",
       "      <td>43710.283333</td>\n",
       "      <td>11502.23</td>\n",
       "      <td>15.788820</td>\n",
       "      <td>1973.700000</td>\n",
       "    </tr>\n",
       "  </tbody>\n",
       "</table>\n",
       "<p>912 rows × 9 columns</p>\n",
       "</div>"
      ],
      "text/plain": [
       "     Year  Month  DOW        Date  trip_count  trip_duration  trip_distance  \\\n",
       "0    2018      1    0  2018-01-01       22384  263853.966667       67911.34   \n",
       "5    2018      1    1  2018-01-02       22583  274362.416667       59493.64   \n",
       "10   2018      1    2  2018-01-03       25673  341670.100000       69394.22   \n",
       "15   2018      1    3  2018-01-04        6297   80896.516667       16403.10   \n",
       "19   2018      1    4  2018-01-05       26727  341303.233333       64290.25   \n",
       "..    ...    ...  ...         ...         ...            ...            ...   \n",
       "903  2020      6    4  2020-06-26        2470   45874.233333       12314.68   \n",
       "907  2020      6    5  2020-06-27        1691   25746.750000        7642.07   \n",
       "911  2020      6    6  2020-06-28        1341   20931.033333        6713.17   \n",
       "886  2020      6    0  2020-06-29        2210   40750.166667       11496.92   \n",
       "891  2020      6    1  2020-06-30        2263   43710.283333       11502.23   \n",
       "\n",
       "         speed         ravg  \n",
       "0    15.442938          NaN  \n",
       "5    13.010595          NaN  \n",
       "10   12.186180          NaN  \n",
       "15   12.165987          NaN  \n",
       "19   11.302017          NaN  \n",
       "..         ...          ...  \n",
       "903  16.106663  1947.233333  \n",
       "907  17.809013  1939.933333  \n",
       "911  19.243684  1916.033333  \n",
       "886  16.927911  1936.566667  \n",
       "891  15.788820  1973.700000  \n",
       "\n",
       "[912 rows x 9 columns]"
      ]
     },
     "execution_count": 237,
     "metadata": {},
     "output_type": "execute_result"
    }
   ],
   "source": [
    "ravg=dfTaxiDaily\n",
    "ravg['ravg']=dfTaxiDaily['trip_count'].rolling(30).mean()\n",
    "dfTaxiDaily"
   ]
  },
  {
   "cell_type": "code",
   "execution_count": 238,
   "metadata": {},
   "outputs": [],
   "source": [
    "data_2020_before = dfTaxiDaily.loc[(dfTaxiDaily['Date'] >= pd.to_datetime('1/16/2020')) & (dfTaxiDaily['Date'] < pd.to_datetime('3/20/2020'))]\n",
    "data_2020_after = dfTaxiDaily.loc[(dfTaxiDaily['Date'] >= pd.to_datetime('3/20/2020')) & (dfTaxiDaily['Date'] <= pd.to_datetime('6/30/2020'))]\n",
    "data_2019_before = dfTaxiDaily.loc[(dfTaxiDaily['Date'] >= pd.to_datetime('1/16/2019')) & (dfTaxiDaily['Date'] < pd.to_datetime('3/20/2019'))]\n",
    "data_2019_after = dfTaxiDaily.loc[(dfTaxiDaily['Date'] >= pd.to_datetime('3/20/2019')) & (dfTaxiDaily['Date'] <= pd.to_datetime('6/30/2019'))]"
   ]
  },
  {
   "cell_type": "code",
   "execution_count": 239,
   "metadata": {},
   "outputs": [
    {
     "data": {
      "text/plain": [
       "[20818.2,\n",
       " 20797.7,\n",
       " 20742.9,\n",
       " 20552.733333333334,\n",
       " 20229.833333333332,\n",
       " 19927.3,\n",
       " 19991.166666666668,\n",
       " 20085.0,\n",
       " 20458.066666666666,\n",
       " 20720.733333333334,\n",
       " 20813.8,\n",
       " 20760.0,\n",
       " 20803.433333333334,\n",
       " 20970.9,\n",
       " 20967.466666666667,\n",
       " 21202.733333333334,\n",
       " 21423.833333333332,\n",
       " 21481.566666666666,\n",
       " 21373.1,\n",
       " 21409.3,\n",
       " 21506.3,\n",
       " 21608.533333333333,\n",
       " 21700.333333333332,\n",
       " 21800.766666666666,\n",
       " 21775.733333333334,\n",
       " 21562.533333333333,\n",
       " 21561.666666666668,\n",
       " 21561.033333333333,\n",
       " 21607.566666666666,\n",
       " 21674.966666666667,\n",
       " 21701.2,\n",
       " 21606.4,\n",
       " 21428.066666666666,\n",
       " 21250.566666666666,\n",
       " 21437.5,\n",
       " 21635.3,\n",
       " 21642.6,\n",
       " 21665.666666666668,\n",
       " 21611.433333333334,\n",
       " 21324.466666666667,\n",
       " 21259.266666666666,\n",
       " 21358.133333333335,\n",
       " 21385.466666666667,\n",
       " 21337.266666666666,\n",
       " 0,\n",
       " 21368.733333333334,\n",
       " 21265.2,\n",
       " 20979.4,\n",
       " 20745.633333333335,\n",
       " 20806.733333333334,\n",
       " 20831.866666666665,\n",
       " 20880.566666666666,\n",
       " 20842.866666666665,\n",
       " 20772.333333333332,\n",
       " 20464.266666666666,\n",
       " 20341.6,\n",
       " 20401.2,\n",
       " 20412.0,\n",
       " 20555.633333333335,\n",
       " 20559.9,\n",
       " 20484.466666666667,\n",
       " 20294.066666666666,\n",
       " 20219.833333333332,\n",
       " 20277.6]"
      ]
     },
     "execution_count": 239,
     "metadata": {},
     "output_type": "execute_result"
    }
   ],
   "source": [
    "#For Feb 29 in 2020, there are not same day, Feb 29 in 2019.\n",
    "b=data_2019_before['ravg'].tolist()\n",
    "b.insert(44,0)\n",
    "b"
   ]
  },
  {
   "cell_type": "code",
   "execution_count": 240,
   "metadata": {},
   "outputs": [],
   "source": [
    "data_2020_before.insert(data_2020_before.shape[1],'2019sameday_ravg',b)\n",
    "data_2020_after.insert(data_2020_after.shape[1],'2019sameday_ravg',data_2019_after['ravg'].tolist())"
   ]
  },
  {
   "cell_type": "code",
   "execution_count": null,
   "metadata": {},
   "outputs": [],
   "source": []
  },
  {
   "cell_type": "code",
   "execution_count": null,
   "metadata": {},
   "outputs": [],
   "source": []
  },
  {
   "cell_type": "code",
   "execution_count": 241,
   "metadata": {},
   "outputs": [],
   "source": [
    "data_2020_before['daily_ratio'] = data_2020_before['trip_count'] / data_2020_before['2019sameday_ravg']\n",
    "data_2020_after['daily_ratio'] = data_2020_after['trip_count'] / data_2020_after['2019sameday_ravg']\n"
   ]
  },
  {
   "cell_type": "code",
   "execution_count": 242,
   "metadata": {},
   "outputs": [
    {
     "data": {
      "text/plain": [
       "745    0.692999\n",
       "750    0.731523\n",
       "755    0.505619\n",
       "759    0.519396\n",
       "732    0.451066\n",
       "         ...   \n",
       "818    0.258902\n",
       "792    0.329860\n",
       "797    0.253375\n",
       "802    0.228934\n",
       "806    0.190210\n",
       "Name: daily_ratio, Length: 64, dtype: float64"
      ]
     },
     "execution_count": 242,
     "metadata": {},
     "output_type": "execute_result"
    }
   ],
   "source": [
    "data_2020_before['daily_ratio']"
   ]
  },
  {
   "cell_type": "code",
   "execution_count": 243,
   "metadata": {},
   "outputs": [
    {
     "data": {
      "text/plain": [
       "810    0.184751\n",
       "814    0.114916\n",
       "819    0.063083\n",
       "793    0.089011\n",
       "798    0.083721\n",
       "         ...   \n",
       "903    0.150410\n",
       "907    0.102903\n",
       "911    0.081479\n",
       "886    0.134539\n",
       "891    0.138848\n",
       "Name: daily_ratio, Length: 103, dtype: float64"
      ]
     },
     "execution_count": 243,
     "metadata": {},
     "output_type": "execute_result"
    }
   ],
   "source": [
    "data_2020_after['daily_ratio']"
   ]
  },
  {
   "cell_type": "code",
   "execution_count": 244,
   "metadata": {},
   "outputs": [
    {
     "data": {
      "text/html": [
       "<div>\n",
       "<style scoped>\n",
       "    .dataframe tbody tr th:only-of-type {\n",
       "        vertical-align: middle;\n",
       "    }\n",
       "\n",
       "    .dataframe tbody tr th {\n",
       "        vertical-align: top;\n",
       "    }\n",
       "\n",
       "    .dataframe thead th {\n",
       "        text-align: right;\n",
       "    }\n",
       "</style>\n",
       "<table border=\"1\" class=\"dataframe\">\n",
       "  <thead>\n",
       "    <tr style=\"text-align: right;\">\n",
       "      <th></th>\n",
       "      <th>Year</th>\n",
       "      <th>Month</th>\n",
       "      <th>DOW</th>\n",
       "      <th>Date</th>\n",
       "      <th>trip_count</th>\n",
       "      <th>trip_duration</th>\n",
       "      <th>trip_distance</th>\n",
       "      <th>speed</th>\n",
       "      <th>ravg</th>\n",
       "      <th>2019sameday_ravg</th>\n",
       "      <th>daily_ratio</th>\n",
       "    </tr>\n",
       "  </thead>\n",
       "  <tbody>\n",
       "    <tr>\n",
       "      <th>785</th>\n",
       "      <td>2020</td>\n",
       "      <td>2</td>\n",
       "      <td>5</td>\n",
       "      <td>2020-02-29</td>\n",
       "      <td>13863</td>\n",
       "      <td>195391.933333</td>\n",
       "      <td>46321.47</td>\n",
       "      <td>14.224171</td>\n",
       "      <td>13172.433333</td>\n",
       "      <td>0.000000</td>\n",
       "      <td>inf</td>\n",
       "    </tr>\n",
       "    <tr>\n",
       "      <th>778</th>\n",
       "      <td>2020</td>\n",
       "      <td>2</td>\n",
       "      <td>4</td>\n",
       "      <td>2020-02-14</td>\n",
       "      <td>15888</td>\n",
       "      <td>258847.183333</td>\n",
       "      <td>52767.34</td>\n",
       "      <td>12.231311</td>\n",
       "      <td>13205.266667</td>\n",
       "      <td>21674.966667</td>\n",
       "      <td>0.733012</td>\n",
       "    </tr>\n",
       "    <tr>\n",
       "      <th>750</th>\n",
       "      <td>2020</td>\n",
       "      <td>1</td>\n",
       "      <td>4</td>\n",
       "      <td>2020-01-17</td>\n",
       "      <td>15214</td>\n",
       "      <td>240713.216667</td>\n",
       "      <td>52351.22</td>\n",
       "      <td>13.049027</td>\n",
       "      <td>13771.866667</td>\n",
       "      <td>20797.700000</td>\n",
       "      <td>0.731523</td>\n",
       "    </tr>\n",
       "    <tr>\n",
       "      <th>780</th>\n",
       "      <td>2020</td>\n",
       "      <td>2</td>\n",
       "      <td>4</td>\n",
       "      <td>2020-02-28</td>\n",
       "      <td>15561</td>\n",
       "      <td>252647.033333</td>\n",
       "      <td>52933.50</td>\n",
       "      <td>12.570937</td>\n",
       "      <td>13181.833333</td>\n",
       "      <td>21337.266667</td>\n",
       "      <td>0.729287</td>\n",
       "    </tr>\n",
       "    <tr>\n",
       "      <th>776</th>\n",
       "      <td>2020</td>\n",
       "      <td>2</td>\n",
       "      <td>3</td>\n",
       "      <td>2020-02-27</td>\n",
       "      <td>15391</td>\n",
       "      <td>245114.116667</td>\n",
       "      <td>51850.83</td>\n",
       "      <td>12.692251</td>\n",
       "      <td>13121.266667</td>\n",
       "      <td>21385.466667</td>\n",
       "      <td>0.719694</td>\n",
       "    </tr>\n",
       "    <tr>\n",
       "      <th>...</th>\n",
       "      <td>...</td>\n",
       "      <td>...</td>\n",
       "      <td>...</td>\n",
       "      <td>...</td>\n",
       "      <td>...</td>\n",
       "      <td>...</td>\n",
       "      <td>...</td>\n",
       "      <td>...</td>\n",
       "      <td>...</td>\n",
       "      <td>...</td>\n",
       "      <td>...</td>\n",
       "    </tr>\n",
       "    <tr>\n",
       "      <th>792</th>\n",
       "      <td>2020</td>\n",
       "      <td>3</td>\n",
       "      <td>0</td>\n",
       "      <td>2020-03-16</td>\n",
       "      <td>6757</td>\n",
       "      <td>100125.733333</td>\n",
       "      <td>26293.73</td>\n",
       "      <td>15.756427</td>\n",
       "      <td>11952.766667</td>\n",
       "      <td>20484.466667</td>\n",
       "      <td>0.329860</td>\n",
       "    </tr>\n",
       "    <tr>\n",
       "      <th>818</th>\n",
       "      <td>2020</td>\n",
       "      <td>3</td>\n",
       "      <td>6</td>\n",
       "      <td>2020-03-15</td>\n",
       "      <td>5323</td>\n",
       "      <td>68449.533333</td>\n",
       "      <td>19951.07</td>\n",
       "      <td>17.488274</td>\n",
       "      <td>12135.233333</td>\n",
       "      <td>20559.900000</td>\n",
       "      <td>0.258902</td>\n",
       "    </tr>\n",
       "    <tr>\n",
       "      <th>797</th>\n",
       "      <td>2020</td>\n",
       "      <td>3</td>\n",
       "      <td>1</td>\n",
       "      <td>2020-03-17</td>\n",
       "      <td>5142</td>\n",
       "      <td>76449.600000</td>\n",
       "      <td>20834.50</td>\n",
       "      <td>16.351557</td>\n",
       "      <td>11787.533333</td>\n",
       "      <td>20294.066667</td>\n",
       "      <td>0.253375</td>\n",
       "    </tr>\n",
       "    <tr>\n",
       "      <th>802</th>\n",
       "      <td>2020</td>\n",
       "      <td>3</td>\n",
       "      <td>2</td>\n",
       "      <td>2020-03-18</td>\n",
       "      <td>4629</td>\n",
       "      <td>66814.983333</td>\n",
       "      <td>18984.50</td>\n",
       "      <td>17.048122</td>\n",
       "      <td>11642.133333</td>\n",
       "      <td>20219.833333</td>\n",
       "      <td>0.228934</td>\n",
       "    </tr>\n",
       "    <tr>\n",
       "      <th>806</th>\n",
       "      <td>2020</td>\n",
       "      <td>3</td>\n",
       "      <td>3</td>\n",
       "      <td>2020-03-19</td>\n",
       "      <td>3857</td>\n",
       "      <td>55796.683333</td>\n",
       "      <td>16122.12</td>\n",
       "      <td>17.336643</td>\n",
       "      <td>11366.766667</td>\n",
       "      <td>20277.600000</td>\n",
       "      <td>0.190210</td>\n",
       "    </tr>\n",
       "  </tbody>\n",
       "</table>\n",
       "<p>64 rows × 11 columns</p>\n",
       "</div>"
      ],
      "text/plain": [
       "     Year  Month  DOW        Date  trip_count  trip_duration  trip_distance  \\\n",
       "785  2020      2    5  2020-02-29       13863  195391.933333       46321.47   \n",
       "778  2020      2    4  2020-02-14       15888  258847.183333       52767.34   \n",
       "750  2020      1    4  2020-01-17       15214  240713.216667       52351.22   \n",
       "780  2020      2    4  2020-02-28       15561  252647.033333       52933.50   \n",
       "776  2020      2    3  2020-02-27       15391  245114.116667       51850.83   \n",
       "..    ...    ...  ...         ...         ...            ...            ...   \n",
       "792  2020      3    0  2020-03-16        6757  100125.733333       26293.73   \n",
       "818  2020      3    6  2020-03-15        5323   68449.533333       19951.07   \n",
       "797  2020      3    1  2020-03-17        5142   76449.600000       20834.50   \n",
       "802  2020      3    2  2020-03-18        4629   66814.983333       18984.50   \n",
       "806  2020      3    3  2020-03-19        3857   55796.683333       16122.12   \n",
       "\n",
       "         speed          ravg  2019sameday_ravg  daily_ratio  \n",
       "785  14.224171  13172.433333          0.000000          inf  \n",
       "778  12.231311  13205.266667      21674.966667     0.733012  \n",
       "750  13.049027  13771.866667      20797.700000     0.731523  \n",
       "780  12.570937  13181.833333      21337.266667     0.729287  \n",
       "776  12.692251  13121.266667      21385.466667     0.719694  \n",
       "..         ...           ...               ...          ...  \n",
       "792  15.756427  11952.766667      20484.466667     0.329860  \n",
       "818  17.488274  12135.233333      20559.900000     0.258902  \n",
       "797  16.351557  11787.533333      20294.066667     0.253375  \n",
       "802  17.048122  11642.133333      20219.833333     0.228934  \n",
       "806  17.336643  11366.766667      20277.600000     0.190210  \n",
       "\n",
       "[64 rows x 11 columns]"
      ]
     },
     "execution_count": 244,
     "metadata": {},
     "output_type": "execute_result"
    }
   ],
   "source": [
    "data_2020_before.sort_values(by='daily_ratio',ascending=False)"
   ]
  },
  {
   "cell_type": "code",
   "execution_count": 245,
   "metadata": {},
   "outputs": [
    {
     "data": {
      "text/html": [
       "<div>\n",
       "<style scoped>\n",
       "    .dataframe tbody tr th:only-of-type {\n",
       "        vertical-align: middle;\n",
       "    }\n",
       "\n",
       "    .dataframe tbody tr th {\n",
       "        vertical-align: top;\n",
       "    }\n",
       "\n",
       "    .dataframe thead th {\n",
       "        text-align: right;\n",
       "    }\n",
       "</style>\n",
       "<table border=\"1\" class=\"dataframe\">\n",
       "  <thead>\n",
       "    <tr style=\"text-align: right;\">\n",
       "      <th></th>\n",
       "      <th>Year</th>\n",
       "      <th>Month</th>\n",
       "      <th>DOW</th>\n",
       "      <th>Date</th>\n",
       "      <th>trip_count</th>\n",
       "      <th>trip_duration</th>\n",
       "      <th>trip_distance</th>\n",
       "      <th>speed</th>\n",
       "      <th>ravg</th>\n",
       "      <th>2019sameday_ravg</th>\n",
       "      <th>daily_ratio</th>\n",
       "    </tr>\n",
       "  </thead>\n",
       "  <tbody>\n",
       "    <tr>\n",
       "      <th>810</th>\n",
       "      <td>2020</td>\n",
       "      <td>3</td>\n",
       "      <td>4</td>\n",
       "      <td>2020-03-20</td>\n",
       "      <td>3777</td>\n",
       "      <td>53185.016667</td>\n",
       "      <td>15297.58</td>\n",
       "      <td>17.257770</td>\n",
       "      <td>11054.833333</td>\n",
       "      <td>20443.700000</td>\n",
       "      <td>0.184751</td>\n",
       "    </tr>\n",
       "    <tr>\n",
       "      <th>903</th>\n",
       "      <td>2020</td>\n",
       "      <td>6</td>\n",
       "      <td>4</td>\n",
       "      <td>2020-06-26</td>\n",
       "      <td>2470</td>\n",
       "      <td>45874.233333</td>\n",
       "      <td>12314.68</td>\n",
       "      <td>16.106663</td>\n",
       "      <td>1947.233333</td>\n",
       "      <td>16421.800000</td>\n",
       "      <td>0.150410</td>\n",
       "    </tr>\n",
       "    <tr>\n",
       "      <th>899</th>\n",
       "      <td>2020</td>\n",
       "      <td>6</td>\n",
       "      <td>3</td>\n",
       "      <td>2020-06-25</td>\n",
       "      <td>2329</td>\n",
       "      <td>43600.650000</td>\n",
       "      <td>12228.14</td>\n",
       "      <td>16.827465</td>\n",
       "      <td>1931.933333</td>\n",
       "      <td>16249.500000</td>\n",
       "      <td>0.143327</td>\n",
       "    </tr>\n",
       "    <tr>\n",
       "      <th>869</th>\n",
       "      <td>2020</td>\n",
       "      <td>5</td>\n",
       "      <td>4</td>\n",
       "      <td>2020-05-15</td>\n",
       "      <td>2463</td>\n",
       "      <td>45778.216667</td>\n",
       "      <td>15028.15</td>\n",
       "      <td>19.696901</td>\n",
       "      <td>1515.600000</td>\n",
       "      <td>17430.200000</td>\n",
       "      <td>0.141306</td>\n",
       "    </tr>\n",
       "    <tr>\n",
       "      <th>895</th>\n",
       "      <td>2020</td>\n",
       "      <td>6</td>\n",
       "      <td>2</td>\n",
       "      <td>2020-06-24</td>\n",
       "      <td>2277</td>\n",
       "      <td>42859.866667</td>\n",
       "      <td>12165.42</td>\n",
       "      <td>17.030506</td>\n",
       "      <td>1914.900000</td>\n",
       "      <td>16185.866667</td>\n",
       "      <td>0.140678</td>\n",
       "    </tr>\n",
       "    <tr>\n",
       "      <th>...</th>\n",
       "      <td>...</td>\n",
       "      <td>...</td>\n",
       "      <td>...</td>\n",
       "      <td>...</td>\n",
       "      <td>...</td>\n",
       "      <td>...</td>\n",
       "      <td>...</td>\n",
       "      <td>...</td>\n",
       "      <td>...</td>\n",
       "      <td>...</td>\n",
       "      <td>...</td>\n",
       "    </tr>\n",
       "    <tr>\n",
       "      <th>820</th>\n",
       "      <td>2020</td>\n",
       "      <td>3</td>\n",
       "      <td>6</td>\n",
       "      <td>2020-03-29</td>\n",
       "      <td>681</td>\n",
       "      <td>8332.116667</td>\n",
       "      <td>2830.04</td>\n",
       "      <td>20.379263</td>\n",
       "      <td>7453.166667</td>\n",
       "      <td>20194.800000</td>\n",
       "      <td>0.033722</td>\n",
       "    </tr>\n",
       "    <tr>\n",
       "      <th>847</th>\n",
       "      <td>2020</td>\n",
       "      <td>4</td>\n",
       "      <td>6</td>\n",
       "      <td>2020-04-05</td>\n",
       "      <td>672</td>\n",
       "      <td>9077.050000</td>\n",
       "      <td>3242.25</td>\n",
       "      <td>21.431522</td>\n",
       "      <td>4623.233333</td>\n",
       "      <td>20296.133333</td>\n",
       "      <td>0.033110</td>\n",
       "    </tr>\n",
       "    <tr>\n",
       "      <th>849</th>\n",
       "      <td>2020</td>\n",
       "      <td>4</td>\n",
       "      <td>6</td>\n",
       "      <td>2020-04-19</td>\n",
       "      <td>640</td>\n",
       "      <td>8585.600000</td>\n",
       "      <td>2979.10</td>\n",
       "      <td>20.819279</td>\n",
       "      <td>1217.700000</td>\n",
       "      <td>19397.333333</td>\n",
       "      <td>0.032994</td>\n",
       "    </tr>\n",
       "    <tr>\n",
       "      <th>850</th>\n",
       "      <td>2020</td>\n",
       "      <td>4</td>\n",
       "      <td>6</td>\n",
       "      <td>2020-04-26</td>\n",
       "      <td>617</td>\n",
       "      <td>9270.166667</td>\n",
       "      <td>3253.46</td>\n",
       "      <td>21.057615</td>\n",
       "      <td>1065.100000</td>\n",
       "      <td>18781.233333</td>\n",
       "      <td>0.032852</td>\n",
       "    </tr>\n",
       "    <tr>\n",
       "      <th>848</th>\n",
       "      <td>2020</td>\n",
       "      <td>4</td>\n",
       "      <td>6</td>\n",
       "      <td>2020-04-12</td>\n",
       "      <td>542</td>\n",
       "      <td>7733.950000</td>\n",
       "      <td>2954.77</td>\n",
       "      <td>22.923112</td>\n",
       "      <td>2208.600000</td>\n",
       "      <td>19938.533333</td>\n",
       "      <td>0.027184</td>\n",
       "    </tr>\n",
       "  </tbody>\n",
       "</table>\n",
       "<p>103 rows × 11 columns</p>\n",
       "</div>"
      ],
      "text/plain": [
       "     Year  Month  DOW        Date  trip_count  trip_duration  trip_distance  \\\n",
       "810  2020      3    4  2020-03-20        3777   53185.016667       15297.58   \n",
       "903  2020      6    4  2020-06-26        2470   45874.233333       12314.68   \n",
       "899  2020      6    3  2020-06-25        2329   43600.650000       12228.14   \n",
       "869  2020      5    4  2020-05-15        2463   45778.216667       15028.15   \n",
       "895  2020      6    2  2020-06-24        2277   42859.866667       12165.42   \n",
       "..    ...    ...  ...         ...         ...            ...            ...   \n",
       "820  2020      3    6  2020-03-29         681    8332.116667        2830.04   \n",
       "847  2020      4    6  2020-04-05         672    9077.050000        3242.25   \n",
       "849  2020      4    6  2020-04-19         640    8585.600000        2979.10   \n",
       "850  2020      4    6  2020-04-26         617    9270.166667        3253.46   \n",
       "848  2020      4    6  2020-04-12         542    7733.950000        2954.77   \n",
       "\n",
       "         speed          ravg  2019sameday_ravg  daily_ratio  \n",
       "810  17.257770  11054.833333      20443.700000     0.184751  \n",
       "903  16.106663   1947.233333      16421.800000     0.150410  \n",
       "899  16.827465   1931.933333      16249.500000     0.143327  \n",
       "869  19.696901   1515.600000      17430.200000     0.141306  \n",
       "895  17.030506   1914.900000      16185.866667     0.140678  \n",
       "..         ...           ...               ...          ...  \n",
       "820  20.379263   7453.166667      20194.800000     0.033722  \n",
       "847  21.431522   4623.233333      20296.133333     0.033110  \n",
       "849  20.819279   1217.700000      19397.333333     0.032994  \n",
       "850  21.057615   1065.100000      18781.233333     0.032852  \n",
       "848  22.923112   2208.600000      19938.533333     0.027184  \n",
       "\n",
       "[103 rows x 11 columns]"
      ]
     },
     "execution_count": 245,
     "metadata": {},
     "output_type": "execute_result"
    }
   ],
   "source": [
    "data_2020_after.sort_values(by='daily_ratio',ascending=False)"
   ]
  },
  {
   "cell_type": "code",
   "execution_count": 246,
   "metadata": {},
   "outputs": [],
   "source": [
    "#after comparing daily ratio, we know the ratio is lower after the shelter in place order than before."
   ]
  },
  {
   "cell_type": "code",
   "execution_count": 247,
   "metadata": {},
   "outputs": [
    {
     "data": {
      "text/plain": [
       "Ttest_indResult(statistic=38.63152697150859, pvalue=1.4282532058389186e-84)"
      ]
     },
     "execution_count": 247,
     "metadata": {},
     "output_type": "execute_result"
    }
   ],
   "source": [
    "stats.ttest_ind(data_2020_before['trip_count'],data_2020_after['trip_count']) #Reject"
   ]
  },
  {
   "cell_type": "code",
   "execution_count": 248,
   "metadata": {},
   "outputs": [
    {
     "data": {
      "text/plain": [
       "KstestResult(statistic=1.0, pvalue=6.661338147750939e-16)"
      ]
     },
     "execution_count": 248,
     "metadata": {},
     "output_type": "execute_result"
    }
   ],
   "source": [
    "stats.ks_2samp(data_2020_before['trip_count'],data_2020_after['trip_count']) #Reject"
   ]
  },
  {
   "cell_type": "code",
   "execution_count": 249,
   "metadata": {},
   "outputs": [
    {
     "data": {
      "text/plain": [
       "Ttest_indResult(statistic=37.133351950887665, pvalue=9.812349732455662e-82)"
      ]
     },
     "execution_count": 249,
     "metadata": {},
     "output_type": "execute_result"
    }
   ],
   "source": [
    "stats.ttest_ind(data_2020_before.loc[data_2020_before['Date']!=pd.to_datetime('2/29/2020')]['daily_ratio']#remove the date in 2/29/2020\n",
    "                ,data_2020_after['daily_ratio'])                              #Reject"
   ]
  },
  {
   "cell_type": "code",
   "execution_count": 250,
   "metadata": {},
   "outputs": [
    {
     "data": {
      "text/plain": [
       "KstestResult(statistic=1.0, pvalue=6.661338147750939e-16)"
      ]
     },
     "execution_count": 250,
     "metadata": {},
     "output_type": "execute_result"
    }
   ],
   "source": [
    "stats.ks_2samp(data_2020_before['daily_ratio'],data_2020_after['daily_ratio'])#Reject"
   ]
  },
  {
   "cell_type": "code",
   "execution_count": null,
   "metadata": {},
   "outputs": [],
   "source": [
    "#We can reject the null hypothesis that daily ridership ratio average/distribution after March, 20, 2020 is the same as before"
   ]
  },
  {
   "cell_type": "code",
   "execution_count": 251,
   "metadata": {},
   "outputs": [
    {
     "data": {
      "text/plain": [
       "Ttest_indResult(statistic=9.54964362409093, pvalue=1.8462982200246875e-17)"
      ]
     },
     "execution_count": 251,
     "metadata": {},
     "output_type": "execute_result"
    }
   ],
   "source": [
    "stats.ttest_ind(data_2019_before['trip_count'],data_2019_after['trip_count']) #Reject"
   ]
  },
  {
   "cell_type": "code",
   "execution_count": 252,
   "metadata": {},
   "outputs": [
    {
     "data": {
      "text/plain": [
       "KstestResult(statistic=0.6181229773462783, pvalue=1.3988810110276972e-14)"
      ]
     },
     "execution_count": 252,
     "metadata": {},
     "output_type": "execute_result"
    }
   ],
   "source": [
    "stats.ks_2samp(data_2019_before['trip_count'],data_2019_after['trip_count'])  #Reject"
   ]
  },
  {
   "cell_type": "code",
   "execution_count": null,
   "metadata": {},
   "outputs": [],
   "source": [
    "#We can reject the null hypothesis that daily ridership ratio average/distribution after March, 20, 2019 is the same as before"
   ]
  },
  {
   "cell_type": "code",
   "execution_count": null,
   "metadata": {},
   "outputs": [],
   "source": []
  }
 ],
 "metadata": {
  "kernelspec": {
   "display_name": "Python 3 (ipykernel)",
   "language": "python",
   "name": "python3"
  },
  "language_info": {
   "codemirror_mode": {
    "name": "ipython",
    "version": 3
   },
   "file_extension": ".py",
   "mimetype": "text/x-python",
   "name": "python",
   "nbconvert_exporter": "python",
   "pygments_lexer": "ipython3",
   "version": "3.9.18"
  },
  "toc": {
   "base_numbering": 1,
   "nav_menu": {},
   "number_sections": true,
   "sideBar": true,
   "skip_h1_title": false,
   "title_cell": "Table of Contents",
   "title_sidebar": "Contents",
   "toc_cell": false,
   "toc_position": {},
   "toc_section_display": true,
   "toc_window_display": false
  }
 },
 "nbformat": 4,
 "nbformat_minor": 4
}
